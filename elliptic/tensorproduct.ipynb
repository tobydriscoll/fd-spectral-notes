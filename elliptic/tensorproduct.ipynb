{
 "cells": [
  {
   "cell_type": "markdown",
   "id": "8d0000c1",
   "metadata": {},
   "source": [
    "# Tensor-product grids\n",
    "\n",
    "We will consider Poisson on a rectangle $\\Omega = [a,b]\\times [c,d]$. If $x_0,\\dots,x_m$ is a sequence of nodes in $[a,b]$, and $y_0,\\dots,y_n$ is a sequence of nodes in $[c,d]$, then a natural grid on the rectangle is the **tensor-product grid**\n",
    "\n",
    "$$\n",
    "(x_i,y_j), \\quad i=0,\\ldots,m,\\, j=0,\\ldots,n. \n",
    "$$\n",
    "\n",
    "This makes it natural to represent a function $u(x,y)$ as the matrix $\\bfU$, where\n",
    "\n",
    "$$\n",
    "U_{ij} = u(x_i,y_j). \n",
    "$$\n",
    "\n",
    "```{caution}\n",
    "There is potential for confusion because the first dimension of a matrix varies in the vertical direction, while the first coordinate $x$ varies horizontally. In fact, the Julia plotting routines we use expect the transpose of this arrangement, so that $x$ varies along columns and $y$ along rows.\n",
    "```\n",
    "\n",
    "::::{prf:example}\n",
    "Let the interval $[0,2]$ be divided into $m=4$ equally sized pieces, and let $[1,3]$ be discretized in $n=2$ equal pieces. Then the grid in the rectangle $[0,2]\\times[1,3]$ is given by all points $(i/2,1+j)$ for all choices $i=0,1,2,3,4$ and $j=0,1,2$. If $f(x,y)=\\sin(\\pi xy)$, then\n",
    "\n",
    "$$\n",
    "  \\mtx(f) =\n",
    "    \\begin{bmatrix}\n",
    "    \\sin(\\pi\\cdot 0\\cdot 1) & \\sin(\\pi\\cdot0\\cdot 2) & \\sin(\\pi\\cdot0\\cdot 3) \\\\[1mm]\n",
    "    \\sin\\left(\\pi\\cdot\\tfrac{1}{2} \\cdot 1 \\right) & \\sin\\left(\\pi\\cdot\\tfrac{1}{2} \\cdot 2 \\right) & \\sin\\left(\\pi\\cdot\\tfrac{1}{2} \\cdot 3 \\right) \\\\[1mm]\n",
    "    \\sin\\left(\\pi \\cdot 1 \\cdot 1 \\right) & \\sin\\left(\\pi \\cdot 1 \\cdot 2 \\right) & \\sin\\left(\\pi \\cdot 1 \\cdot 3 \\right) \\\\[1mm]\n",
    "    \\sin\\left(\\pi\\cdot \\tfrac{3}{2} \\cdot 1 \\right) & \\sin\\left(\\pi\\cdot\\tfrac{3}{2} \\cdot 2 \\right) & \\sin\\left(\\pi\\cdot\\tfrac{3}{2} \\cdot 3 \\right) \\\\[1mm]\n",
    "    \\sin\\left(\\pi \\cdot 2 \\cdot 1 \\right) & \\sin\\left(\\pi \\cdot 2 \\cdot 2 \\right) & \\sin\\left(\\pi \\cdot 2 \\cdot 3 \\right)\n",
    "    \\end{bmatrix}\n",
    "    = \\begin{bmatrix}\n",
    "    0 & 0 & 0 \\\\ 1 & 0 & -1 \\\\ 0 & 0 & 0 \\\\ -1 & 0 & 1 \\\\ 0 & 0 & 0\n",
    "    \\end{bmatrix}.\n",
    "$$\n",
    "::::\n",
    "\n",
    "Here is the grid from this example."
   ]
  },
  {
   "cell_type": "code",
   "execution_count": null,
   "id": "48125b1a",
   "metadata": {},
   "outputs": [],
   "source": [
    "m = 4;   x = range(0,2,m+1);\n",
    "n = 2;   y = range(1,3,n+1);"
   ]
  },
  {
   "cell_type": "markdown",
   "id": "0736636b",
   "metadata": {},
   "source": [
    "For a given $f(x,y)$ we can find $\\operatorname{mtx}(f)$ by using a comprehension syntax."
   ]
  },
  {
   "cell_type": "code",
   "execution_count": null,
   "id": "8c70eb09",
   "metadata": {},
   "outputs": [],
   "source": [
    "f = (x,y) -> cos(π*x*y-y)\n",
    "F = [ f(x,y) for x in x, y in y ]"
   ]
  },
  {
   "cell_type": "markdown",
   "id": "8f2bdf00",
   "metadata": {},
   "source": [
    "The plots of this section look better using a different graphics engine on the back end:"
   ]
  },
  {
   "cell_type": "code",
   "execution_count": null,
   "id": "a79014a8",
   "metadata": {},
   "outputs": [],
   "source": [
    "using Plots\n",
    "plotlyjs();  # use better 3D renderer"
   ]
  },
  {
   "cell_type": "markdown",
   "id": "1ad0c5f9",
   "metadata": {},
   "source": [
    "We can make a nice plot of the function by first choosing a much finer grid. However, the contour and surface plotting functions expect the *transpose* of mtx($f$).\n",
    "\n",
    "To emphasize departures from a zero level, use a colormap such as `bluesreds`, and use `clims` to set balanced color differences."
   ]
  },
  {
   "cell_type": "code",
   "execution_count": null,
   "id": "b34e562e",
   "metadata": {},
   "outputs": [],
   "source": [
    "m = 60;   x = range(0,2,m+1);\n",
    "n = 50;   y = range(1,3,n+1);\n",
    "F = [ f(x,y) for x in x, y in y ];\n",
    "\n",
    "plot(x,y,F',levels=10,fill=true,aspect_ratio=1,\n",
    "    color=:bluesreds,clims=(-1,1),\n",
    "    xlabel=\"x\",ylabel=\"y\")"
   ]
  },
  {
   "cell_type": "code",
   "execution_count": null,
   "id": "1b572595",
   "metadata": {},
   "outputs": [],
   "source": [
    "surface(x,y,F',l=0,leg=:none,\n",
    "    color=:bluesreds,clims=(-1,1),\n",
    "    xlabel=\"x\",ylabel=\"y\",zlabel=\"f(x,y)\")"
   ]
  },
  {
   "cell_type": "markdown",
   "id": "4360814c",
   "metadata": {},
   "source": [
    "## Parameterized surfaces\n",
    "\n",
    "We are not limited to rectangles by tensor products. Many regions and surfaces may be parameterized by means of $x(u,v)$, $y(u,v)$, and $z(u,v)$, where $u$ and $v$ lie in a rectangle. Such \"logically rectangular\" surfaces include the unit disk,\n",
    "\n",
    ":::{math}\n",
    ":label: unitdiskparam\n",
    "\\left\\{\n",
    "\\begin{aligned}\n",
    "x &= u \\cos v, \\\\\n",
    "y &= u \\sin v,\\\\\n",
    "\\end{aligned}\n",
    "\\right.\n",
    "\\qquad \\qquad\n",
    "\\left.\n",
    "\\begin{aligned}\n",
    "0 & \\le u < 1, \\\\\n",
    "0 &\\le v \\le 2\\pi,\n",
    "\\end{aligned}\n",
    "\\right.\n",
    ":::\n",
    "\n",
    "and the unit sphere,\n",
    "\n",
    ":::{math}\n",
    ":label: spheredomain\n",
    "\\left\\{\n",
    "\\begin{aligned}\n",
    "x &= \\cos u \\sin v,\\\\\n",
    "y &= \\sin u \\sin v,\\\\\n",
    "z &= \\cos v,\n",
    "\\end{aligned}\n",
    "\\right.\n",
    "\\qquad \\qquad\n",
    "  \\left.\n",
    "\\begin{aligned}\n",
    "0 & \\le u < 2\\pi, \\\\\n",
    "0 &\\le v \\le \\pi.\n",
    "\\end{aligned}\n",
    "\\right.\n",
    ":::\n",
    "\n",
    "For a function given in polar form, such as $f(r,\\theta)=1-r^4$, construction of a function over the unit disk is straightforward using a grid in $(r,\\theta)$ space."
   ]
  },
  {
   "cell_type": "code",
   "execution_count": null,
   "id": "fe2aebf8",
   "metadata": {},
   "outputs": [],
   "source": [
    "r = range(0,1,length=41)\n",
    "θ = range(0,2π,length=81)\n",
    "F = [ 1-r^4 for r in r, θ in θ ]\n",
    "\n",
    "surface(r,θ,F',legend=:none,l=0,color=:viridis,\n",
    "    xlabel=\"r\",ylabel=\"θ\",title=\"A polar function\")"
   ]
  },
  {
   "cell_type": "markdown",
   "id": "ad25a838",
   "metadata": {},
   "source": [
    "Of course, we are used to seeing such plots over the $(x,y)$ plane, not the $(r,\\theta)$ plane. For this we create matrices for the coordinate functions $x$ and $y$."
   ]
  },
  {
   "cell_type": "code",
   "execution_count": null,
   "id": "4b4d3ba2",
   "metadata": {},
   "outputs": [],
   "source": [
    "X = [ r*cos(θ) for r in r, θ in θ ]\n",
    "Y = [ r*sin(θ) for r in r, θ in θ ]\n",
    "\n",
    "surface(X',Y',F',legend=:none,l=0,color=:viridis,\n",
    "    xlabel=\"x\",ylabel=\"y\",title=\"Function on the unit disk\")"
   ]
  },
  {
   "cell_type": "markdown",
   "id": "8bccca66",
   "metadata": {},
   "source": [
    "In such functions the values along the line $r=0$ must be identical, and the values on the line $\\theta=0$ should be identical to those on $\\theta=2\\pi$. Otherwise the interpretation of the domain as the unit disk is nonsensical. If the function is defined in terms of $x$ and $y$, then those can be defined in terms of $r$ and $\\theta$ using {eq}`unitdiskparam`.\n",
    "\n",
    "On the unit sphere, we can use color to indicate a function value. Here is a plot of the function $f(x,y,z) = x y z^3$. Since we need coordinate function matrices for the plot, we also use them to evaluate $f$ on the grid."
   ]
  },
  {
   "cell_type": "code",
   "execution_count": null,
   "id": "56328f63",
   "metadata": {},
   "outputs": [],
   "source": [
    "θ = range(0,2π,length=61)\n",
    "ϕ = range(0,π,length=51)\n",
    "\n",
    "X = [ cos(θ)*sin(ϕ) for θ in θ, ϕ in ϕ ]\n",
    "Y = [ sin(θ)*sin(ϕ) for θ in θ, ϕ in ϕ ]\n",
    "Z = [ cos(ϕ) for θ in θ, ϕ in ϕ ]\n",
    "\n",
    "F =  @. X*Y*Z^3\n",
    "surface(X',Y',Z',fill_z=F',l=0,leg=:none,color=:viridis,\n",
    "    xlims=(-1.1,1.1),ylims=(-1.1,1.1),zlims=(-1.1,1.1),\n",
    "    xlabel=\"x\",ylabel=\"y\",zlabel=\"z\",\n",
    "    title=\"Function on the unit sphere\")"
   ]
  },
  {
   "cell_type": "markdown",
   "id": "f7597e05",
   "metadata": {},
   "source": [
    "## Partial derivatives\n",
    "\n",
    "In order to solve boundary-value problems in one dimension by collocation, we replaced an unknown function $u(x)$ by a vector of its values at selected nodes and discretized the derivatives in the equation using differentiation matrices. We use the same ideas in the 2D case: we represent a function by its values on a grid, and multiplication by differentiation matrices to construct discrete analogs of the partial derivatives $\\frac{\\partial u}{\\partial x}$ and $\\frac{\\partial u}{\\partial y}$.\n",
    "\n",
    "Consider first $\\frac{\\partial u}{\\partial x}$. In the definition of this partial derivative, the independent variable $y$ is held constant. Note that $y$ is constant within each column of $\\mathbf{U} = \\mtx(u)$. Thus, we may regard a single column $\\mathbf{u}_j$ as a discretized function of $x$ and, as usual, left-multiply by a differentiation matrix $\\mathbf{D}_x$. We need to do this for each column of $\\mathbf{U}$ by $\\mathbf{D}_x$, which is accomplished by $\\mathbf{D}_x \\mathbf{U}$. Altogether,\n",
    "\n",
    ":::{math}\n",
    "  :label: partfpartx\n",
    "  \\mtx\\left( \\frac{\\partial u}{\\partial x} \\right) \\approx \\mathbf{D}_x \\, \\mtx(u).\n",
    ":::\n",
    "\n",
    "This relation is not an equality, because the left-hand side is a discretization of the exact partial derivative, while the right-hand side is a finite-difference approximation. Yet it is a natural analog for partial differentiation when we are given not $u(x,y)$ but only the grid value matrix $\\mathbf{U}$.\n",
    "\n",
    "Now we tackle $\\frac{\\partial u}{\\partial y}$. Here the inactive coordinate $x$ is held fixed within each *row* of $\\mathbf{U}$. However, if we transpose $\\mathbf{U}$, then the roles of rows and columns are swapped, and now $y$ varies independently down each column. This is analogous to the situation for the $x$-derivative, so we left-multiply by a finite-difference matrix $\\mathbf{D}_y$, and then transpose the entire result to restore the roles of $x$ and $y$ in the grid. Fortunately, linear algebra allows us to express the sequence transpose–left-multiply–transpose more compactly:\n",
    "\n",
    ":::{math}\n",
    ":label: partfparty\n",
    "\\mtx\\left( \\frac{\\partial u}{\\partial y} \\right) \\approx \\Bigl(\\mathbf{D}_y \\mathbf{U}^T\\Bigr)^T = \\mtx(u)\\, \\mathbf{D}_y^T.\n",
    ":::\n",
    "\n",
    "Keep in mind that the differentiation matrix $\\mathbf{D}_x$ is based on the discretization $x_0,\\ldots,x_m$, and as such it must be $(m+1)\\times (m+1)$. On the other hand, $\\mathbf{D}_y$ is based on $y_0,\\ldots,y_n$ and is $(n+1)\\times (n+1)$. This is exactly what is needed dimensionally to make the products consistent. \n",
    "\n",
    "We define a function and, for reference, its two exact partial derivatives."
   ]
  },
  {
   "cell_type": "code",
   "execution_count": null,
   "id": "c0889dba",
   "metadata": {},
   "outputs": [],
   "source": [
    "u = (x,y) -> sin(π*x*y-y);\n",
    "∂u_∂x = (x,y) -> π*y*cos(πx*y-y);\n",
    "∂u_∂y = (x,y) -> (π*x-1)*cos(π*x*y-y);"
   ]
  },
  {
   "cell_type": "code",
   "execution_count": null,
   "id": "21b1402b",
   "metadata": {},
   "outputs": [],
   "source": [
    "foreach(println,readlines(\"diffmats.jl\"))"
   ]
  },
  {
   "cell_type": "markdown",
   "id": "1091744b",
   "metadata": {},
   "source": [
    "We use an equispaced grid and second-order finite differences."
   ]
  },
  {
   "cell_type": "code",
   "execution_count": null,
   "id": "f50c1016",
   "metadata": {},
   "outputs": [],
   "source": [
    "include(\"diffmats.jl\")\n",
    "x,Dx,_ = diffmats(m,0,2)\n",
    "y,Dy,_ = diffmats(n,1,3)\n",
    "mtx = (f,x,y) -> [ f(x,y) for x in x, y in y ]\n",
    "U = mtx(u,x,y)\n",
    "∂xU = Dx*U;\n",
    "∂yU = U*Dy';"
   ]
  },
  {
   "cell_type": "markdown",
   "id": "5d0c3629",
   "metadata": {},
   "source": [
    "Now we compare the exact $\\frac{\\partial u}{\\partial y}$ with its finite-difference approximation."
   ]
  },
  {
   "cell_type": "code",
   "execution_count": null,
   "id": "03ace7e6",
   "metadata": {},
   "outputs": [],
   "source": [
    "M = maximum(abs,∂yU)    # find the range of the result\n",
    "plot(layout=(1,2),aspect_ratio=1,clims=(-M,M),xlabel=\"x\",ylabel=\"y\")\n",
    "contour!(x,y,mtx(∂u_∂y,x,y)',layout=(1,2),levels=12,\n",
    "    fill=true,color=:bluesreds,title=\"∂u/∂y\")      \n",
    "contour!(x,y,∂yU',subplot=2,levels=12,\n",
    "    fill=true,color=:bluesreds,title=\"approximation\")"
   ]
  },
  {
   "cell_type": "markdown",
   "id": "2f3b69bb",
   "metadata": {},
   "source": [
    "To the eye there is little difference to be seen, though the results have no more than a few correct digits at these discretization sizes:"
   ]
  },
  {
   "cell_type": "code",
   "execution_count": null,
   "id": "795b7258",
   "metadata": {},
   "outputs": [],
   "source": [
    "exact = mtx(∂u_∂y,x,y)\n",
    "# Relative difference in Frobenius norm:\n",
    "norm(exact-∂yU) / norm(exact)"
   ]
  },
  {
   "cell_type": "code",
   "execution_count": null,
   "id": "c62105f7",
   "metadata": {},
   "outputs": [],
   "source": []
  }
 ],
 "metadata": {
  "jupytext": {
   "cell_metadata_filter": "-all"
  },
  "kernelspec": {
   "display_name": "Julia 1.8.0",
   "language": "julia",
   "name": "julia-1.8"
  }
 },
 "nbformat": 4,
 "nbformat_minor": 5
}
