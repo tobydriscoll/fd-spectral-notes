{
 "cells": [
  {
   "cell_type": "code",
   "execution_count": 1,
   "id": "067967f9-b1c7-432f-b400-5401682ce2cc",
   "metadata": {},
   "outputs": [
    {
     "data": {
      "text/plain": [
       "(M, g)"
      ]
     },
     "execution_count": 1,
     "metadata": {},
     "output_type": "execute_result"
    }
   ],
   "source": [
    "var('M g')"
   ]
  },
  {
   "cell_type": "code",
   "execution_count": 2,
   "id": "42d6076c-6d36-4ebe-bdd3-5d23c9de16c4",
   "metadata": {},
   "outputs": [],
   "source": [
    "xi(s) = 1 +(2/M)*tan(g*(s-1)/2)"
   ]
  },
  {
   "cell_type": "code",
   "execution_count": 3,
   "id": "fbe33717-b6bf-4ccd-b66d-123730f806d3",
   "metadata": {},
   "outputs": [
    {
     "data": {
      "text/plain": [
       "s |--> ((tan(1/2*g*(s - 1))^2 + 1)*g/M)"
      ]
     },
     "execution_count": 3,
     "metadata": {},
     "output_type": "execute_result"
    }
   ],
   "source": [
    "diff(xi)"
   ]
  },
  {
   "cell_type": "code",
   "execution_count": 6,
   "id": "dc69156c-964a-4148-85b3-490cb4cfc562",
   "metadata": {},
   "outputs": [
    {
     "data": {
      "text/plain": [
       "(tan(1/2*g*(s - 1))^2 + 1)*g^2*tan(1/2*g*(s - 1))/M"
      ]
     },
     "execution_count": 6,
     "metadata": {},
     "output_type": "execute_result"
    }
   ],
   "source": [
    "simplify(diff(xi,s,s)(s))"
   ]
  },
  {
   "cell_type": "code",
   "execution_count": 7,
   "id": "6834224c-288d-49db-971a-1a25f2e273b5",
   "metadata": {},
   "outputs": [
    {
     "data": {
      "text/plain": [
       "x"
      ]
     },
     "execution_count": 7,
     "metadata": {},
     "output_type": "execute_result"
    }
   ],
   "source": [
    "var('x')"
   ]
  },
  {
   "cell_type": "code",
   "execution_count": 8,
   "id": "2f2161ff-44ab-49a0-96fc-6968baf075c5",
   "metadata": {},
   "outputs": [],
   "source": [
    "s(x) = 1 + (2/g)*atan(M*(x-1)/2)"
   ]
  },
  {
   "cell_type": "code",
   "execution_count": 9,
   "id": "2622ab9d-36ef-41cf-ba02-f4e286d705ba",
   "metadata": {},
   "outputs": [
    {
     "data": {
      "text/plain": [
       "x |--> 4*M/((M^2*(x - 1)^2 + 4)*g)"
      ]
     },
     "execution_count": 9,
     "metadata": {},
     "output_type": "execute_result"
    }
   ],
   "source": [
    "diff(s,x)"
   ]
  },
  {
   "cell_type": "code",
   "execution_count": 10,
   "id": "1fa72ec8-a454-4268-8246-c584f353b841",
   "metadata": {},
   "outputs": [
    {
     "data": {
      "text/plain": [
       "x |--> -8*M^3*(x - 1)/((M^2*(x - 1)^2 + 4)^2*g)"
      ]
     },
     "execution_count": 10,
     "metadata": {},
     "output_type": "execute_result"
    }
   ],
   "source": [
    "diff(s,x,x)"
   ]
  },
  {
   "cell_type": "code",
   "execution_count": null,
   "id": "c497cd8c-d2d0-4fa0-9a4c-ad4b185b98e8",
   "metadata": {},
   "outputs": [],
   "source": []
  }
 ],
 "metadata": {
  "kernelspec": {
   "display_name": "SageMath 9.6",
   "language": "sage",
   "name": "sagemath-9.6"
  },
  "language_info": {
   "codemirror_mode": {
    "name": "ipython",
    "version": 3
   },
   "file_extension": ".py",
   "mimetype": "text/x-python",
   "name": "python",
   "nbconvert_exporter": "python",
   "pygments_lexer": "ipython3",
   "version": "3.10.3"
  }
 },
 "nbformat": 4,
 "nbformat_minor": 5
}
