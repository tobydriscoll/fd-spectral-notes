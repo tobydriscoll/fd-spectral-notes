{
 "cells": [
  {
   "cell_type": "markdown",
   "id": "6c154b0a",
   "metadata": {},
   "source": [
    "# Boundary conditions for the TPBVP\n",
    "\n",
    "We return to the linear TPBVP,\n",
    "\n",
    "$$\n",
    "u''(x) + p(x)u'(x) + q(x)u(x) &= f(x), \\quad a < x < b, \\\\ \n",
    "G_{11}u(a) + G_{12}u'(a)  &= \\alpha, \\\\ \n",
    "G_{21}u(b) + G_{22}u'(b)  &= \\beta,\n",
    "$$\n",
    "\n",
    "and now ask what happens when the boundary conditions are not of Dirichlet type. Of particular interest is the **Neumann** case in which $G_{11}=G_{21}=0$. Recall that the discretization of the ODE leads to the linear system\n",
    "\n",
    "$$\n",
    "\\bfA \\bfu = \\bff, \\qquad \\bfA = \\bfD_{xx} + \\bfP \\bfD_{x} + \\bfQ.\n",
    "$$\n",
    "\n",
    "There are two common approaches used. One is to copy what we did for the Dirichlet case and replace the first and last rows with discrete forms of the boundary conditions. Here, we'll look at the method of **fictitious points** or **ghost points**.\n",
    "\n",
    "Note that we could discretize the ODE all the way to the boundary if we had access to the values $u_{-1}$ and $u_{n+1}$, e.g.,\n",
    "\n",
    "$$\n",
    "u''(x_0) \\approx \\frac{u_{-1}-2u_0+u_1}{h^2},\n",
    "$$\n",
    "\n",
    "and so on. Of course, the value $u_{-1}$ is fictitious, based on a node lying outside the domain. But a Neumann BC could be discretized to imply that\n",
    "\n",
    "$$\n",
    "u'(x_0) \\approx \\frac{u_{1}-u_{-1}}{2h}. \n",
    "$$\n",
    "\n",
    "Inserting this into the left BC leads to\n",
    "\n",
    "$$\n",
    "G_{11}u_0 + G_{12}\\frac{u_{1}-u_{-1}}{2h}  = \\alpha, \n",
    "$$\n",
    "\n",
    "which can be solved for the fictitious $u_{-1}$ in terms of $u_0$ and $u_1$. Hence, the discretization of the ODE becomes dependent just on those two unknowns, eliminating the explicit presence of the fictitious value."
   ]
  },
  {
   "cell_type": "code",
   "execution_count": 1,
   "id": "1b2cf450",
   "metadata": {},
   "outputs": [],
   "source": [
    "using LinearAlgebra\n",
    "p = x -> x+2\n",
    "q = x -> x^2+1\n",
    "f = x -> 1\n",
    "a,b = -1,1\n",
    "n = 6\n",
    "h = (b-a)/n\n",
    "x = [a + i*h for i in 0:n];"
   ]
  },
  {
   "cell_type": "markdown",
   "id": "bd715373",
   "metadata": {},
   "source": [
    "We're going to use rectangular matrices here to reflect the fact that we depend (for now) on $n+3$ unknowns but have only $n+1$ collocated ODE equations."
   ]
  },
  {
   "cell_type": "code",
   "execution_count": 2,
   "id": "83a60b3b",
   "metadata": {},
   "outputs": [
    {
     "data": {
      "text/plain": [
       "7×9 Matrix{Float64}:\n",
       " 9.0  -18.0    9.0    0.0    0.0    0.0    0.0    0.0  0.0\n",
       " 0.0    9.0  -18.0    9.0    0.0    0.0    0.0    0.0  0.0\n",
       " 0.0    0.0    9.0  -18.0    9.0    0.0    0.0    0.0  0.0\n",
       " 0.0    0.0    0.0    9.0  -18.0    9.0    0.0    0.0  0.0\n",
       " 0.0    0.0    0.0    0.0    9.0  -18.0    9.0    0.0  0.0\n",
       " 0.0    0.0    0.0    0.0    0.0    9.0  -18.0    9.0  0.0\n",
       " 0.0    0.0    0.0    0.0    0.0    0.0    9.0  -18.0  9.0"
      ]
     },
     "execution_count": 2,
     "metadata": {},
     "output_type": "execute_result"
    }
   ],
   "source": [
    "Dxx = 1/h^2 * diagm(n+1,n+3,0=>ones(n+1),1=>-2*ones(n+1),2=>ones(n+1))"
   ]
  },
  {
   "cell_type": "code",
   "execution_count": 3,
   "id": "d555e942",
   "metadata": {},
   "outputs": [
    {
     "data": {
      "text/plain": [
       "7×9 Matrix{Float64}:\n",
       " -1.5   0.0   1.5   0.0   0.0   0.0   0.0  0.0  0.0\n",
       "  0.0  -1.5   0.0   1.5   0.0   0.0   0.0  0.0  0.0\n",
       "  0.0   0.0  -1.5   0.0   1.5   0.0   0.0  0.0  0.0\n",
       "  0.0   0.0   0.0  -1.5   0.0   1.5   0.0  0.0  0.0\n",
       "  0.0   0.0   0.0   0.0  -1.5   0.0   1.5  0.0  0.0\n",
       "  0.0   0.0   0.0   0.0   0.0  -1.5   0.0  1.5  0.0\n",
       "  0.0   0.0   0.0   0.0   0.0   0.0  -1.5  0.0  1.5"
      ]
     },
     "execution_count": 3,
     "metadata": {},
     "output_type": "execute_result"
    }
   ],
   "source": [
    "Dx = 1/2h * diagm(n+1,n+3,0=>-ones(n+1),2=>ones(n+1))"
   ]
  },
  {
   "cell_type": "code",
   "execution_count": 4,
   "id": "2b1778da",
   "metadata": {},
   "outputs": [
    {
     "data": {
      "text/plain": [
       "7×9 Matrix{Float64}:\n",
       " 7.5  -18.0   12.5    0.0       0.0       0.0    0.0       0.0      0.0\n",
       " 0.0    7.0  -18.0   12.4444    0.0       0.0    0.0       0.0      0.0\n",
       " 0.0    0.0    6.5  -18.0      12.6111    0.0    0.0       0.0      0.0\n",
       " 0.0    0.0    0.0    6.0     -18.0      13.0    0.0       0.0      0.0\n",
       " 0.0    0.0    0.0    0.0       5.5     -18.0   13.6111    0.0      0.0\n",
       " 0.0    0.0    0.0    0.0       0.0       5.0  -18.0      14.4444   0.0\n",
       " 0.0    0.0    0.0    0.0       0.0       0.0    4.5     -18.0     15.5"
      ]
     },
     "execution_count": 4,
     "metadata": {},
     "output_type": "execute_result"
    }
   ],
   "source": [
    "A = Dxx + diagm(p.(x))*Dx + diagm(n+1,n+3,2=>q.(x))\n",
    "v = f.(x)\n",
    "A"
   ]
  },
  {
   "cell_type": "markdown",
   "id": "75759302",
   "metadata": {},
   "source": [
    "It would be easy to do the algebra that expresses the fictitious values in terms of the regular unknowns. It's even easier to let the computer do the linear algebra for us, though. So we will add new rows to express the discrete forms of the boundary conditions."
   ]
  },
  {
   "cell_type": "code",
   "execution_count": 5,
   "id": "913fa2cd",
   "metadata": {},
   "outputs": [
    {
     "data": {
      "text/plain": [
       "9×9 Matrix{Float64}:\n",
       " -1.5    0.0    1.5    0.0       0.0       0.0    0.0       0.0      0.0\n",
       "  7.5  -18.0   12.5    0.0       0.0       0.0    0.0       0.0      0.0\n",
       "  0.0    7.0  -18.0   12.4444    0.0       0.0    0.0       0.0      0.0\n",
       "  0.0    0.0    6.5  -18.0      12.6111    0.0    0.0       0.0      0.0\n",
       "  0.0    0.0    0.0    6.0     -18.0      13.0    0.0       0.0      0.0\n",
       "  0.0    0.0    0.0    0.0       5.5     -18.0   13.6111    0.0      0.0\n",
       "  0.0    0.0    0.0    0.0       0.0       5.0  -18.0      14.4444   0.0\n",
       "  0.0    0.0    0.0    0.0       0.0       0.0    4.5     -18.0     15.5\n",
       "  0.0    0.0    0.0    0.0       0.0       0.0    1.5       1.0     -1.5"
      ]
     },
     "execution_count": 5,
     "metadata": {},
     "output_type": "execute_result"
    }
   ],
   "source": [
    "Ga,Gb = [0,1],[1,-1]\n",
    "⍺,β = 0,0\n",
    "r₋ = [-Ga[2]/2h Ga[1] Ga[2]/2h zeros(1,n)]\n",
    "r₊ = [zeros(1,n) -Gb[2]/2h Gb[1] Gb[2]/2h]\n",
    "A = [r₋;A;r₊]\n",
    "v = [⍺;v;β]\n",
    "A"
   ]
  },
  {
   "cell_type": "markdown",
   "id": "9b62851a",
   "metadata": {},
   "source": [
    "Now we do a trick known as the **Schur complement**. Suppose the system is partitioned into blocks:\n",
    "\n",
    "$$\n",
    "\\begin{bmatrix}\n",
    "  \\bfA_{11} & \\bfA_{12} \\\\ \\bfA_{21} & \\bfA_{22} \n",
    "\\end{bmatrix}\n",
    "\\begin{bmatrix}\n",
    "  \\bfu_1 & \\bfu_2\n",
    "\\end{bmatrix}\n",
    "= \n",
    "\\begin{bmatrix}\n",
    "  \\bfv_1 & \\bfv_2\n",
    "\\end{bmatrix}.\n",
    "$$\n",
    "\n",
    "Here, the groups represent normal/fictitious unknowns. (The blocks need not be contiguous within the matrix.) Then\n",
    "\n",
    "$$\n",
    "\\bfu_2 = \\mathbf{A}_{22}^{-1} (\\bfv_2 - \\bfA_{21}\\bfu_1), \n",
    "$$\n",
    "\n",
    "and the first block-row of the system becomes\n",
    "\n",
    "$$\n",
    "\\bfA_{11} \\bfu_1 + \\mathbf{S}(\\bfv_2 - \\bfA_{21}\\bfu_1) = \\bfv_1, \\quad \\mathbf{S} = \\bfA_{12}*\\mathbf{A}_{22}^{-1}. \n",
    "$$\n",
    "\n",
    "This is easily rearranged into a system $\\tilde{\\bfA} \\bfu_1 = \\tilde{bfv}$ for the regular unknowns only."
   ]
  },
  {
   "cell_type": "code",
   "execution_count": 6,
   "id": "24c2d008",
   "metadata": {},
   "outputs": [
    {
     "data": {
      "text/plain": [
       "7×7 Matrix{Float64}:\n",
       " -18.0   20.0    0.0       0.0       0.0    0.0      0.0\n",
       "   7.0  -18.0   12.4444    0.0       0.0    0.0      0.0\n",
       "   0.0    6.5  -18.0      12.6111    0.0    0.0      0.0\n",
       "   0.0    0.0    6.0     -18.0      13.0    0.0      0.0\n",
       "   0.0    0.0    0.0       5.5     -18.0   13.6111   0.0\n",
       "   0.0    0.0    0.0       0.0       5.0  -18.0     14.4444\n",
       "   0.0    0.0    0.0       0.0       0.0   20.0     -7.66667"
      ]
     },
     "execution_count": 6,
     "metadata": {},
     "output_type": "execute_result"
    }
   ],
   "source": [
    "i1,i2 = 2:n+2,[1,n+3]\n",
    "S = A[i1,i2]/A[i2,i2]\n",
    "ṽ = v[i1] - S*v[i2]\n",
    "Ã = A[i1,i1] - S*A[i2,i1]\n",
    "Ã"
   ]
  },
  {
   "cell_type": "code",
   "execution_count": 7,
   "id": "5da72b8e",
   "metadata": {},
   "outputs": [
    {
     "data": {
      "text/plain": [
       "7-element Vector{Float64}:\n",
       " -0.8171782480212244\n",
       " -0.6854604232191019\n",
       " -0.4514496333585481\n",
       " -0.21176569027107778\n",
       " -0.007929586517547056\n",
       "  0.14855354002102633\n",
       "  0.2570961913591991"
      ]
     },
     "execution_count": 7,
     "metadata": {},
     "output_type": "execute_result"
    }
   ],
   "source": [
    "u = Ã\\ṽ"
   ]
  },
  {
   "cell_type": "code",
   "execution_count": 8,
   "id": "433be7c8",
   "metadata": {},
   "outputs": [
    {
     "data": {
      "image/svg+xml": [
       "<?xml version=\"1.0\" encoding=\"utf-8\"?>\n",
       "<svg xmlns=\"http://www.w3.org/2000/svg\" xmlns:xlink=\"http://www.w3.org/1999/xlink\" width=\"600\" height=\"400\" viewBox=\"0 0 2400 1600\">\n",
       "<defs>\n",
       "  <clipPath id=\"clip320\">\n",
       "    <rect x=\"0\" y=\"0\" width=\"2400\" height=\"1600\"/>\n",
       "  </clipPath>\n",
       "</defs>\n",
       "<path clip-path=\"url(#clip320)\" d=\"\n",
       "M0 1600 L2400 1600 L2400 0 L0 0  Z\n",
       "  \" fill=\"#ffffff\" fill-rule=\"evenodd\" fill-opacity=\"1\"/>\n",
       "<defs>\n",
       "  <clipPath id=\"clip321\">\n",
       "    <rect x=\"480\" y=\"0\" width=\"1681\" height=\"1600\"/>\n",
       "  </clipPath>\n",
       "</defs>\n",
       "<path clip-path=\"url(#clip320)\" d=\"\n",
       "M180.66 1487.47 L2352.76 1487.47 L2352.76 47.2441 L180.66 47.2441  Z\n",
       "  \" fill=\"#ffffff\" fill-rule=\"evenodd\" fill-opacity=\"1\"/>\n",
       "<defs>\n",
       "  <clipPath id=\"clip322\">\n",
       "    <rect x=\"180\" y=\"47\" width=\"2173\" height=\"1441\"/>\n",
       "  </clipPath>\n",
       "</defs>\n",
       "<polyline clip-path=\"url(#clip322)\" style=\"stroke:#000000; stroke-linecap:butt; stroke-linejoin:round; stroke-width:2; stroke-opacity:0.1; fill:none\" points=\"\n",
       "  242.135,1487.47 242.135,47.2441 \n",
       "  \"/>\n",
       "<polyline clip-path=\"url(#clip322)\" style=\"stroke:#000000; stroke-linecap:butt; stroke-linejoin:round; stroke-width:2; stroke-opacity:0.1; fill:none\" points=\"\n",
       "  754.421,1487.47 754.421,47.2441 \n",
       "  \"/>\n",
       "<polyline clip-path=\"url(#clip322)\" style=\"stroke:#000000; stroke-linecap:butt; stroke-linejoin:round; stroke-width:2; stroke-opacity:0.1; fill:none\" points=\"\n",
       "  1266.71,1487.47 1266.71,47.2441 \n",
       "  \"/>\n",
       "<polyline clip-path=\"url(#clip322)\" style=\"stroke:#000000; stroke-linecap:butt; stroke-linejoin:round; stroke-width:2; stroke-opacity:0.1; fill:none\" points=\"\n",
       "  1778.99,1487.47 1778.99,47.2441 \n",
       "  \"/>\n",
       "<polyline clip-path=\"url(#clip322)\" style=\"stroke:#000000; stroke-linecap:butt; stroke-linejoin:round; stroke-width:2; stroke-opacity:0.1; fill:none\" points=\"\n",
       "  2291.28,1487.47 2291.28,47.2441 \n",
       "  \"/>\n",
       "<polyline clip-path=\"url(#clip320)\" style=\"stroke:#000000; stroke-linecap:butt; stroke-linejoin:round; stroke-width:4; stroke-opacity:1; fill:none\" points=\"\n",
       "  180.66,1487.47 2352.76,1487.47 \n",
       "  \"/>\n",
       "<polyline clip-path=\"url(#clip320)\" style=\"stroke:#000000; stroke-linecap:butt; stroke-linejoin:round; stroke-width:4; stroke-opacity:1; fill:none\" points=\"\n",
       "  242.135,1487.47 242.135,1468.58 \n",
       "  \"/>\n",
       "<polyline clip-path=\"url(#clip320)\" style=\"stroke:#000000; stroke-linecap:butt; stroke-linejoin:round; stroke-width:4; stroke-opacity:1; fill:none\" points=\"\n",
       "  754.421,1487.47 754.421,1468.58 \n",
       "  \"/>\n",
       "<polyline clip-path=\"url(#clip320)\" style=\"stroke:#000000; stroke-linecap:butt; stroke-linejoin:round; stroke-width:4; stroke-opacity:1; fill:none\" points=\"\n",
       "  1266.71,1487.47 1266.71,1468.58 \n",
       "  \"/>\n",
       "<polyline clip-path=\"url(#clip320)\" style=\"stroke:#000000; stroke-linecap:butt; stroke-linejoin:round; stroke-width:4; stroke-opacity:1; fill:none\" points=\"\n",
       "  1778.99,1487.47 1778.99,1468.58 \n",
       "  \"/>\n",
       "<polyline clip-path=\"url(#clip320)\" style=\"stroke:#000000; stroke-linecap:butt; stroke-linejoin:round; stroke-width:4; stroke-opacity:1; fill:none\" points=\"\n",
       "  2291.28,1487.47 2291.28,1468.58 \n",
       "  \"/>\n",
       "<g clip-path=\"url(#clip320)\">\n",
       "<text style=\"fill:#000000; fill-opacity:1; font-family:Arial,Helvetica Neue,Helvetica,sans-serif; font-size:48px; text-anchor:middle;\" transform=\"rotate(0, 242.135, 1549.32)\" x=\"242.135\" y=\"1549.32\">−1.0</text>\n",
       "</g>\n",
       "<g clip-path=\"url(#clip320)\">\n",
       "<text style=\"fill:#000000; fill-opacity:1; font-family:Arial,Helvetica Neue,Helvetica,sans-serif; font-size:48px; text-anchor:middle;\" transform=\"rotate(0, 754.421, 1549.32)\" x=\"754.421\" y=\"1549.32\">−0.5</text>\n",
       "</g>\n",
       "<g clip-path=\"url(#clip320)\">\n",
       "<text style=\"fill:#000000; fill-opacity:1; font-family:Arial,Helvetica Neue,Helvetica,sans-serif; font-size:48px; text-anchor:middle;\" transform=\"rotate(0, 1266.71, 1549.32)\" x=\"1266.71\" y=\"1549.32\">0.0</text>\n",
       "</g>\n",
       "<g clip-path=\"url(#clip320)\">\n",
       "<text style=\"fill:#000000; fill-opacity:1; font-family:Arial,Helvetica Neue,Helvetica,sans-serif; font-size:48px; text-anchor:middle;\" transform=\"rotate(0, 1778.99, 1549.32)\" x=\"1778.99\" y=\"1549.32\">0.5</text>\n",
       "</g>\n",
       "<g clip-path=\"url(#clip320)\">\n",
       "<text style=\"fill:#000000; fill-opacity:1; font-family:Arial,Helvetica Neue,Helvetica,sans-serif; font-size:48px; text-anchor:middle;\" transform=\"rotate(0, 2291.28, 1549.32)\" x=\"2291.28\" y=\"1549.32\">1.0</text>\n",
       "</g>\n",
       "<polyline clip-path=\"url(#clip322)\" style=\"stroke:#000000; stroke-linecap:butt; stroke-linejoin:round; stroke-width:2; stroke-opacity:0.1; fill:none\" points=\"\n",
       "  180.66,1442 2352.76,1442 \n",
       "  \"/>\n",
       "<polyline clip-path=\"url(#clip322)\" style=\"stroke:#000000; stroke-linecap:butt; stroke-linejoin:round; stroke-width:2; stroke-opacity:0.1; fill:none\" points=\"\n",
       "  180.66,1237.09 2352.76,1237.09 \n",
       "  \"/>\n",
       "<polyline clip-path=\"url(#clip322)\" style=\"stroke:#000000; stroke-linecap:butt; stroke-linejoin:round; stroke-width:2; stroke-opacity:0.1; fill:none\" points=\"\n",
       "  180.66,1032.17 2352.76,1032.17 \n",
       "  \"/>\n",
       "<polyline clip-path=\"url(#clip322)\" style=\"stroke:#000000; stroke-linecap:butt; stroke-linejoin:round; stroke-width:2; stroke-opacity:0.1; fill:none\" points=\"\n",
       "  180.66,827.256 2352.76,827.256 \n",
       "  \"/>\n",
       "<polyline clip-path=\"url(#clip322)\" style=\"stroke:#000000; stroke-linecap:butt; stroke-linejoin:round; stroke-width:2; stroke-opacity:0.1; fill:none\" points=\"\n",
       "  180.66,622.341 2352.76,622.341 \n",
       "  \"/>\n",
       "<polyline clip-path=\"url(#clip322)\" style=\"stroke:#000000; stroke-linecap:butt; stroke-linejoin:round; stroke-width:2; stroke-opacity:0.1; fill:none\" points=\"\n",
       "  180.66,417.427 2352.76,417.427 \n",
       "  \"/>\n",
       "<polyline clip-path=\"url(#clip322)\" style=\"stroke:#000000; stroke-linecap:butt; stroke-linejoin:round; stroke-width:2; stroke-opacity:0.1; fill:none\" points=\"\n",
       "  180.66,212.512 2352.76,212.512 \n",
       "  \"/>\n",
       "<polyline clip-path=\"url(#clip320)\" style=\"stroke:#000000; stroke-linecap:butt; stroke-linejoin:round; stroke-width:4; stroke-opacity:1; fill:none\" points=\"\n",
       "  180.66,1487.47 180.66,47.2441 \n",
       "  \"/>\n",
       "<polyline clip-path=\"url(#clip320)\" style=\"stroke:#000000; stroke-linecap:butt; stroke-linejoin:round; stroke-width:4; stroke-opacity:1; fill:none\" points=\"\n",
       "  180.66,1442 199.558,1442 \n",
       "  \"/>\n",
       "<polyline clip-path=\"url(#clip320)\" style=\"stroke:#000000; stroke-linecap:butt; stroke-linejoin:round; stroke-width:4; stroke-opacity:1; fill:none\" points=\"\n",
       "  180.66,1237.09 199.558,1237.09 \n",
       "  \"/>\n",
       "<polyline clip-path=\"url(#clip320)\" style=\"stroke:#000000; stroke-linecap:butt; stroke-linejoin:round; stroke-width:4; stroke-opacity:1; fill:none\" points=\"\n",
       "  180.66,1032.17 199.558,1032.17 \n",
       "  \"/>\n",
       "<polyline clip-path=\"url(#clip320)\" style=\"stroke:#000000; stroke-linecap:butt; stroke-linejoin:round; stroke-width:4; stroke-opacity:1; fill:none\" points=\"\n",
       "  180.66,827.256 199.558,827.256 \n",
       "  \"/>\n",
       "<polyline clip-path=\"url(#clip320)\" style=\"stroke:#000000; stroke-linecap:butt; stroke-linejoin:round; stroke-width:4; stroke-opacity:1; fill:none\" points=\"\n",
       "  180.66,622.341 199.558,622.341 \n",
       "  \"/>\n",
       "<polyline clip-path=\"url(#clip320)\" style=\"stroke:#000000; stroke-linecap:butt; stroke-linejoin:round; stroke-width:4; stroke-opacity:1; fill:none\" points=\"\n",
       "  180.66,417.427 199.558,417.427 \n",
       "  \"/>\n",
       "<polyline clip-path=\"url(#clip320)\" style=\"stroke:#000000; stroke-linecap:butt; stroke-linejoin:round; stroke-width:4; stroke-opacity:1; fill:none\" points=\"\n",
       "  180.66,212.512 199.558,212.512 \n",
       "  \"/>\n",
       "<g clip-path=\"url(#clip320)\">\n",
       "<text style=\"fill:#000000; fill-opacity:1; font-family:Arial,Helvetica Neue,Helvetica,sans-serif; font-size:48px; text-anchor:middle;\" transform=\"rotate(0, 97.8262, 1459.5)\" x=\"97.8262\" y=\"1459.5\">−1.0</text>\n",
       "</g>\n",
       "<g clip-path=\"url(#clip320)\">\n",
       "<text style=\"fill:#000000; fill-opacity:1; font-family:Arial,Helvetica Neue,Helvetica,sans-serif; font-size:48px; text-anchor:middle;\" transform=\"rotate(0, 97.8262, 1254.59)\" x=\"97.8262\" y=\"1254.59\">−0.8</text>\n",
       "</g>\n",
       "<g clip-path=\"url(#clip320)\">\n",
       "<text style=\"fill:#000000; fill-opacity:1; font-family:Arial,Helvetica Neue,Helvetica,sans-serif; font-size:48px; text-anchor:middle;\" transform=\"rotate(0, 97.8262, 1049.67)\" x=\"97.8262\" y=\"1049.67\">−0.6</text>\n",
       "</g>\n",
       "<g clip-path=\"url(#clip320)\">\n",
       "<text style=\"fill:#000000; fill-opacity:1; font-family:Arial,Helvetica Neue,Helvetica,sans-serif; font-size:48px; text-anchor:middle;\" transform=\"rotate(0, 97.8262, 844.756)\" x=\"97.8262\" y=\"844.756\">−0.4</text>\n",
       "</g>\n",
       "<g clip-path=\"url(#clip320)\">\n",
       "<text style=\"fill:#000000; fill-opacity:1; font-family:Arial,Helvetica Neue,Helvetica,sans-serif; font-size:48px; text-anchor:middle;\" transform=\"rotate(0, 97.8262, 639.841)\" x=\"97.8262\" y=\"639.841\">−0.2</text>\n",
       "</g>\n",
       "<g clip-path=\"url(#clip320)\">\n",
       "<text style=\"fill:#000000; fill-opacity:1; font-family:Arial,Helvetica Neue,Helvetica,sans-serif; font-size:48px; text-anchor:middle;\" transform=\"rotate(0, 111.207, 434.927)\" x=\"111.207\" y=\"434.927\">0.0</text>\n",
       "</g>\n",
       "<g clip-path=\"url(#clip320)\">\n",
       "<text style=\"fill:#000000; fill-opacity:1; font-family:Arial,Helvetica Neue,Helvetica,sans-serif; font-size:48px; text-anchor:middle;\" transform=\"rotate(0, 111.207, 230.012)\" x=\"111.207\" y=\"230.012\">0.2</text>\n",
       "</g>\n",
       "<polyline clip-path=\"url(#clip322)\" style=\"stroke:#009af9; stroke-linecap:butt; stroke-linejoin:round; stroke-width:8; stroke-opacity:1; fill:none\" points=\"\n",
       "  242.135,1430.31 252.38,1430.16 262.626,1429.71 272.872,1428.96 283.118,1427.92 293.363,1426.6 303.609,1425 313.855,1423.13 324.101,1420.99 334.346,1418.59 \n",
       "  344.592,1415.93 354.838,1413.01 365.084,1409.85 375.329,1406.45 385.575,1402.82 395.821,1398.95 406.066,1394.86 416.312,1390.54 426.558,1386.02 436.804,1381.28 \n",
       "  447.049,1376.34 457.295,1371.21 467.541,1365.88 477.787,1360.36 488.032,1354.66 498.278,1348.78 508.524,1342.73 518.77,1336.51 529.015,1330.13 539.261,1323.59 \n",
       "  549.507,1316.9 559.752,1310.06 569.998,1303.08 580.244,1295.96 590.49,1288.71 600.735,1281.33 610.981,1273.82 621.227,1266.2 631.473,1258.46 641.718,1250.61 \n",
       "  651.964,1242.66 662.21,1234.6 672.456,1226.45 682.701,1218.2 692.947,1209.87 703.193,1201.45 713.438,1192.95 723.684,1184.37 733.93,1175.72 744.176,1167 \n",
       "  754.421,1158.21 764.667,1149.37 774.913,1140.46 785.159,1131.5 795.404,1122.49 805.65,1113.43 815.896,1104.33 826.142,1095.19 836.387,1086.01 846.633,1076.79 \n",
       "  856.879,1067.54 867.124,1058.27 877.37,1048.97 887.616,1039.64 897.862,1030.3 908.107,1020.93 918.353,1011.56 928.599,1002.17 938.845,992.772 949.09,983.368 \n",
       "  959.336,973.959 969.582,964.547 979.828,955.136 990.073,945.728 1000.32,936.324 1010.56,926.926 1020.81,917.538 1031.06,908.16 1041.3,898.795 1051.55,889.445 \n",
       "  1061.79,880.111 1072.04,870.795 1082.28,861.499 1092.53,852.225 1102.78,842.974 1113.02,833.748 1123.27,824.549 1133.51,815.377 1143.76,806.234 1154.01,797.122 \n",
       "  1164.25,788.042 1174.5,778.995 1184.74,769.983 1194.99,761.006 1205.23,752.067 1215.48,743.165 1225.73,734.302 1235.97,725.479 1246.22,716.697 1256.46,707.957 \n",
       "  1266.71,699.26 1276.95,690.606 1287.2,681.997 1297.45,673.434 1307.69,664.917 1317.94,656.446 1328.18,648.023 1338.43,639.649 1348.67,631.323 1358.92,623.047 \n",
       "  1369.17,614.821 1379.41,606.645 1389.66,598.521 1399.9,590.448 1410.15,582.428 1420.39,574.46 1430.64,566.545 1440.89,558.684 1451.13,550.876 1461.38,543.123 \n",
       "  1471.62,535.424 1481.87,527.78 1492.11,520.191 1502.36,512.658 1512.61,505.18 1522.85,497.758 1533.1,490.392 1543.34,483.083 1553.59,475.83 1563.83,468.634 \n",
       "  1574.08,461.495 1584.33,454.413 1594.57,447.388 1604.82,440.42 1615.06,433.51 1625.31,426.657 1635.55,419.862 1645.8,413.125 1656.05,406.446 1666.29,399.824 \n",
       "  1676.54,393.26 1686.78,386.754 1697.03,380.307 1707.27,373.917 1717.52,367.585 1727.77,361.311 1738.01,355.095 1748.26,348.938 1758.5,342.838 1768.75,336.796 \n",
       "  1778.99,330.812 1789.24,324.887 1799.49,319.019 1809.73,313.209 1819.98,307.457 1830.22,301.763 1840.47,296.127 1850.71,290.548 1860.96,285.027 1871.21,279.564 \n",
       "  1881.45,274.159 1891.7,268.811 1901.94,263.52 1912.19,258.287 1922.44,253.111 1932.68,247.993 1942.93,242.932 1953.17,237.928 1963.42,232.981 1973.66,228.091 \n",
       "  1983.91,223.258 1994.16,218.482 2004.4,213.763 2014.65,209.101 2024.89,204.495 2035.14,199.946 2045.38,195.453 2055.63,191.017 2065.88,186.638 2076.12,182.314 \n",
       "  2086.37,178.047 2096.61,173.837 2106.86,169.682 2117.1,165.583 2127.35,161.54 2137.6,157.553 2147.84,153.622 2158.09,149.747 2168.33,145.927 2178.58,142.163 \n",
       "  2188.82,138.455 2199.07,134.802 2209.32,131.204 2219.56,127.662 2229.81,124.174 2240.05,120.742 2250.3,117.365 2260.54,114.043 2270.79,110.776 2281.04,107.564 \n",
       "  2291.28,104.406 \n",
       "  \"/>\n",
       "</svg>\n"
      ]
     },
     "execution_count": 8,
     "metadata": {
      "filenames": {
       "image/svg+xml": "/Users/driscoll/Dropbox/class/817/notes/_build/jupyter_execute/tpbvp/bc_11_0.svg"
      }
     },
     "output_type": "execute_result"
    }
   ],
   "source": [
    "n = 200\n",
    "h = (b-a)/n\n",
    "x = [a + i*h for i in 0:n]\n",
    "Dxx = 1/h^2 * diagm(n+1,n+3,0=>ones(n+1),1=>-2*ones(n+1),2=>ones(n+1))\n",
    "Dx = 1/2h * diagm(n+1,n+3,0=>-ones(n+1),2=>ones(n+1))\n",
    "A = Dxx + diagm(p.(x))*Dx + diagm(n+1,n+3,2=>q.(x))\n",
    "v = f.(x)\n",
    "ra = [-Ga[2]/2h Ga[1] Ga[2]/2h zeros(1,n)]\n",
    "rb = [zeros(1,n) -Gb[2]/2h Gb[1] Gb[2]/2h]\n",
    "A = [ra; A; rb]\n",
    "v = [⍺; v; β]\n",
    "i1,i2 = 2:n+2,[1,n+3]\n",
    "S = A[i1,i2]/A[i2,i2]\n",
    "ṽ = v[i1] - S*v[i2]\n",
    "Ã = A[i1,i1] - S*A[i2,i1]\n",
    "u = Ã\\ṽ;\n",
    "\n",
    "using Plots\n",
    "plot(x,u,aspect_ratio=1)"
   ]
  },
  {
   "cell_type": "markdown",
   "id": "59bc314e",
   "metadata": {},
   "source": [
    "The left end does look like a homogeneous Neumann condition is satisfied. We can check the right end numerically using an $O(h)$ discretization."
   ]
  },
  {
   "cell_type": "code",
   "execution_count": 9,
   "id": "5d9930b6",
   "metadata": {},
   "outputs": [
    {
     "data": {
      "text/plain": [
       "-0.002668110755490005"
      ]
     },
     "execution_count": 9,
     "metadata": {},
     "output_type": "execute_result"
    }
   ],
   "source": [
    "Gb[1]*u[n+1] + Gb[2]*(u[n+1]-u[n])/h - β"
   ]
  }
 ],
 "metadata": {
  "jupytext": {
   "cell_metadata_filter": "-all",
   "formats": "md:myst",
   "text_representation": {
    "extension": ".md",
    "format_name": "myst",
    "format_version": 0.13,
    "jupytext_version": "1.14.1"
   }
  },
  "kernelspec": {
   "display_name": "Julia 1.8.0-rc3",
   "language": "julia",
   "name": "julia-1.8"
  },
  "language_info": {
   "file_extension": ".jl",
   "mimetype": "application/julia",
   "name": "julia",
   "version": "1.8.0"
  },
  "source_map": [
   14,
   54,
   63,
   67,
   71,
   75,
   79,
   83,
   91,
   122,
   130,
   134,
   154,
   158
  ]
 },
 "nbformat": 4,
 "nbformat_minor": 5
}