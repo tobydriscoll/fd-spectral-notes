{
 "cells": [
  {
   "cell_type": "markdown",
   "id": "57246d5a",
   "metadata": {},
   "source": [
    "# Power series and finite differences\n",
    "\n",
    "A standard way to uncover the accuracy of a finite-difference formula is by expansion in power series. We'll use formal power series here, which is a bit tricky. Suppose $hD$ represents the differentiation operator times a number $h$. Then define"
   ]
  },
  {
   "cell_type": "code",
   "execution_count": 1,
   "id": "f70401cc",
   "metadata": {},
   "outputs": [
    {
     "data": {
      "text/plain": [
       "1 + hD + 1/2*hD^2 + 1/6*hD^3 + 1/24*hD^4 + 1/120*hD^5 + O(hD^6)"
      ]
     },
     "execution_count": 1,
     "metadata": {},
     "output_type": "execute_result"
    }
   ],
   "source": [
    "R.<hD> = QQ[[]]\n",
    "ser = hD + O(hD^6)\n",
    "Z = ser.exp()\n",
    "Z"
   ]
  },
  {
   "cell_type": "markdown",
   "id": "0c32f715",
   "metadata": {},
   "source": [
    "We can interpret Taylor's theorem as stating that $Z$ is an operator that \"shifts\" a smooth function $u(x)$ to the function $u(x+h)$. Thus, for example, a forward difference operator has the series"
   ]
  },
  {
   "cell_type": "code",
   "execution_count": 2,
   "id": "69fa863f",
   "metadata": {},
   "outputs": [
    {
     "data": {
      "text/plain": [
       "hD + 1/2*hD^2 + 1/6*hD^3 + 1/24*hD^4 + 1/120*hD^5 + O(hD^6)"
      ]
     },
     "execution_count": 2,
     "metadata": {},
     "output_type": "execute_result"
    }
   ],
   "source": [
    "fd1 = Z - 1\n",
    "fd1"
   ]
  },
  {
   "cell_type": "markdown",
   "id": "b444c3e2",
   "metadata": {},
   "source": [
    "That is,\n",
    "\n",
    "$$\n",
    "u(x+h) - u(x) & = hu'(x) + \\frac{1}{2}h^2u''(x) + \\cdots \\\\ \n",
    "\\frac{u(x+h)-u(x)}{h} = u'(x) + \\frac{1}{2}h u''(x) + O(h^2).\n",
    "$$\n",
    "\n",
    "Hence we say this formula is **first-order accurate**, since its error is led by the $O(h^1)$ term. Similarly, the two-term backward difference is also first-order:"
   ]
  },
  {
   "cell_type": "code",
   "execution_count": 3,
   "id": "0aa13606",
   "metadata": {},
   "outputs": [
    {
     "data": {
      "text/plain": [
       "hD - 1/2*hD^2 + 1/6*hD^3 - 1/24*hD^4 + 1/120*hD^5 + O(hD^6)"
      ]
     },
     "execution_count": 3,
     "metadata": {},
     "output_type": "execute_result"
    }
   ],
   "source": [
    "bd1 = 1 - Z^(-1) \n",
    "bd1"
   ]
  },
  {
   "cell_type": "markdown",
   "id": "c9feed40",
   "metadata": {},
   "source": [
    "The centered difference, however, is second-order accurate:"
   ]
  },
  {
   "cell_type": "code",
   "execution_count": 4,
   "id": "94ccf964",
   "metadata": {},
   "outputs": [
    {
     "data": {
      "text/plain": [
       "hD + 1/6*hD^3 + 1/120*hD^5 + O(hD^6)"
      ]
     },
     "execution_count": 4,
     "metadata": {},
     "output_type": "execute_result"
    }
   ],
   "source": [
    "cd2 = (Z - Z^(-1))/2\n",
    "cd2"
   ]
  },
  {
   "cell_type": "markdown",
   "id": "aa49a18a",
   "metadata": {},
   "source": [
    "$$\n",
    "u(x+h) - u(x) & = hu'(x) + \\frac{1}{2}h^2u''(x) + \\cdots \\\\ \n",
    "\\frac{u(x+h)-u(x-h)}{2h} &= u'(x) + \\frac{1}{6} h^2 u'''(x) + O(h^4).\n",
    "$$\n",
    "\n",
    "One interpretation is that the antisymmetry around $h=0$ buys us an extra order.\n",
    "\n",
    "The same series analysis can be used to derive methods as well. You decide which nodes to include, called the **stencil** of the method, give each function value an unknown coefficient, expand everything around the evaluation point, and choose the coefficients to cancel out as many terms as possible. \n",
    "\n",
    "There is a better method, though, that uses the connection between differentiation and shifting to derive formulas. \n",
    "Note that formally, $Z=e^{hD}$ around $h=0$, so that $hD = \\log(Z)$ around $Z=1$. Hence finite difference formulas are always found as truncations of the series:"
   ]
  },
  {
   "cell_type": "code",
   "execution_count": 5,
   "id": "9b15afda",
   "metadata": {},
   "outputs": [
    {
     "data": {
      "text/plain": [
       "-1/4*(z - 1)^4 + 1/3*(z - 1)^3 - 1/2*(z - 1)^2 + z - 1"
      ]
     },
     "execution_count": 5,
     "metadata": {},
     "output_type": "execute_result"
    }
   ],
   "source": [
    "var('z')\n",
    "taylor(log(z),z,1,4)"
   ]
  },
  {
   "cell_type": "markdown",
   "id": "f424dab1",
   "metadata": {},
   "source": [
    "So if we were setting out to find the two-point forward difference, for example, we'd start with\n",
    "\n",
    "$$\n",
    "\\frac{a_1 u(h) + a_0 u(0)}{h} & \\approx u'(0) \\\\ \n",
    "a_1 Zu(0) + a_0u(0) & \\approx hDu(0) \\\\ \n",
    "a_1 Z + a_0 & \\approx \\log(Z). \n",
    "$$\n",
    "\n",
    "Hence,"
   ]
  },
  {
   "cell_type": "code",
   "execution_count": 6,
   "id": "8475d124",
   "metadata": {},
   "outputs": [
    {
     "data": {
      "text/plain": [
       "z - 1"
      ]
     },
     "execution_count": 6,
     "metadata": {},
     "output_type": "execute_result"
    }
   ],
   "source": [
    "expand(taylor(log(z),z,1,1))"
   ]
  },
  {
   "cell_type": "markdown",
   "id": "b215c010",
   "metadata": {},
   "source": [
    "If we add a node at $2h$, then we have $a_2 Z^2 + a_1 Z + a_0 \\approx \\log(Z)$:"
   ]
  },
  {
   "cell_type": "code",
   "execution_count": 7,
   "id": "436efde7",
   "metadata": {},
   "outputs": [
    {
     "data": {
      "text/plain": [
       "-1/2*z^2 + 2*z - 3/2"
      ]
     },
     "execution_count": 7,
     "metadata": {},
     "output_type": "execute_result"
    }
   ],
   "source": [
    "expand(taylor(log(z),z,1,2))"
   ]
  },
  {
   "cell_type": "markdown",
   "id": "89c87811",
   "metadata": {},
   "source": [
    "This corresponds to a 2nd-order forward difference on three points:\n",
    "\n",
    "$$\n",
    "\\frac{-3u(0) + 4u(h) - u(2h)}{2h} = u'(0) + O(h^2). \n",
    "$$\n",
    "\n",
    "We can handle centered (and any generally-offset) formula on evenly spaced nodes. In the centered three-point formula, for instance, we have \n",
    "\n",
    "$$\n",
    "\\frac{a_{-1}u(-h) + a_0 u(0) + a_1u(h)}{h} & \\approx u'(0)  \\\\ \n",
    "a_{-1}Z^{-1} + a_0 + a_1 Z & \\approx \\log(Z) \\\\ \n",
    "a_{-1} + a_0 Z + a_1 Z^2 & \\approx Z \\log(Z) \n",
    "$$"
   ]
  },
  {
   "cell_type": "code",
   "execution_count": 8,
   "id": "17fb15ac",
   "metadata": {},
   "outputs": [
    {
     "data": {
      "text/plain": [
       "1/2*z^2 - 1/2"
      ]
     },
     "execution_count": 8,
     "metadata": {},
     "output_type": "execute_result"
    }
   ],
   "source": [
    "expand(taylor(z*log(z),z,1,2))"
   ]
  },
  {
   "cell_type": "markdown",
   "id": "1110dc02",
   "metadata": {},
   "source": [
    "Similarly, we can derive a five-point centered formula via"
   ]
  },
  {
   "cell_type": "code",
   "execution_count": 9,
   "id": "495d3210",
   "metadata": {},
   "outputs": [
    {
     "data": {
      "text/plain": [
       "-1/12*z^4 + 2/3*z^3 - 2/3*z + 1/12"
      ]
     },
     "execution_count": 9,
     "metadata": {},
     "output_type": "execute_result"
    }
   ],
   "source": [
    "expand(taylor(z^2*log(z),z,1,4))"
   ]
  },
  {
   "cell_type": "markdown",
   "id": "39e1cdf0",
   "metadata": {},
   "source": [
    "## Higher derivatives\n",
    "\n",
    "We can play the same games for 2nd and higher derivative formulas. Here is the most famous formula for a second derivative: 3-point, centered, and 2nd-order:"
   ]
  },
  {
   "cell_type": "code",
   "execution_count": 10,
   "id": "e73f9e09",
   "metadata": {},
   "outputs": [
    {
     "data": {
      "text/plain": [
       "z^2 - 2*z + 1"
      ]
     },
     "execution_count": 10,
     "metadata": {},
     "output_type": "execute_result"
    }
   ],
   "source": [
    "expand(taylor(z*log(z)^2,z,1,3))"
   ]
  },
  {
   "cell_type": "markdown",
   "id": "b92086e2",
   "metadata": {},
   "source": [
    "$$\n",
    "u''(0) = \\frac{u_{-1}-2u_0+u_1}{h^2} + O(h^2)\n",
    "$$\n",
    "\n",
    "This can be carried out to 4th-order using 5 points:"
   ]
  },
  {
   "cell_type": "code",
   "execution_count": 11,
   "id": "0a1b5c47",
   "metadata": {},
   "outputs": [
    {
     "data": {
      "text/plain": [
       "-1/12*z^4 + 4/3*z^3 - 5/2*z^2 + 4/3*z - 1/12"
      ]
     },
     "execution_count": 11,
     "metadata": {},
     "output_type": "execute_result"
    }
   ],
   "source": [
    "expand(taylor(z^2*log(z)^2,z,1,5))"
   ]
  },
  {
   "cell_type": "markdown",
   "id": "41bab635",
   "metadata": {},
   "source": [
    "We can also do asymmetric (forward and backward) formulas:"
   ]
  },
  {
   "cell_type": "code",
   "execution_count": 12,
   "id": "d8c7f1cf",
   "metadata": {},
   "outputs": [
    {
     "data": {
      "text/plain": [
       "-z^3 + 4*z^2 - 5*z + 2"
      ]
     },
     "execution_count": 12,
     "metadata": {},
     "output_type": "execute_result"
    }
   ],
   "source": [
    "expand(taylor(log(z)^2,z,1,3))"
   ]
  },
  {
   "cell_type": "markdown",
   "id": "7322d52e",
   "metadata": {},
   "source": [
    "$$\n",
    "u''(0) = \\frac{2u_{0}-5u_1+4u_2 - u_3}{h^2} + O(h^2)\n",
    "$$"
   ]
  }
 ],
 "metadata": {
  "jupytext": {
   "cell_metadata_filter": "-all",
   "formats": "md:myst",
   "text_representation": {
    "extension": ".md",
    "format_name": "myst",
    "format_version": 0.13,
    "jupytext_version": "1.14.1"
   }
  },
  "kernelspec": {
   "display_name": "SageMath 9.6",
   "language": "sage",
   "name": "sagemath-9.6"
  },
  "language_info": {
   "codemirror_mode": {
    "name": "ipython",
    "version": 3
   },
   "file_extension": ".py",
   "mimetype": "text/x-python",
   "name": "python",
   "nbconvert_exporter": "python",
   "pygments_lexer": "ipython3",
   "version": "3.10.3"
  },
  "source_map": [
   14,
   20,
   25,
   29,
   32,
   43,
   46,
   50,
   53,
   67,
   70,
   82,
   84,
   88,
   90,
   106,
   108,
   112,
   114,
   120,
   122,
   129,
   131,
   135,
   137
  ]
 },
 "nbformat": 4,
 "nbformat_minor": 5
}