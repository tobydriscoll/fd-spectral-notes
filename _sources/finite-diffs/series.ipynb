{
 "cells": [
  {
   "cell_type": "markdown",
   "id": "02ce3e01",
   "metadata": {},
   "source": [
    "# Power series and finite differences\n",
    "\n",
    "A standard way to uncover the accuracy of a finite-difference formula is by expansion in power series. \n",
    "\n",
    ":::{prf:definition} Truncation error for finite differences\n",
    "If $d_h(u)$ is a finite-difference approximation to $u'(0)$, the **truncation error** of the approximation is \n",
    "\n",
    "$$\n",
    "T(h) = d_h(u) - u'(0). \n",
    "$$\n",
    "\n",
    "The power of $h$ in the leading term of $T(h)$ is the **order of accuracy** of the FD formula. \n",
    ":::\n",
    "\n",
    "::::{prf:example}\n",
    "For the forward-difference formula applied to a smooth $u(x)$,\n",
    "\n",
    "$$\n",
    "T(h) &= \\frac{u(h)-u(0)}{h} - u'(0) \\\\ \n",
    "&= \\frac{hu'(0) + \\tfrac{1}{2}h^2u''(0) + \\cdots}{h} - u'(0) = \\tfrac{1}{2}hu''(0) + O(h^2). \n",
    "$$\n",
    "\n",
    "Thus, it is a first-order method.\n",
    "::::\n",
    "\n",
    "There is a lot of boilerplate in these calculations that we can condense using formal power series. Suppose $hD$ represents the differentiation operator times the step size $h$. Then define $Z=\\exp(hD)$. In Sage, this is done via the following:"
   ]
  },
  {
   "cell_type": "code",
   "execution_count": 1,
   "id": "45f7e923",
   "metadata": {},
   "outputs": [
    {
     "data": {
      "text/plain": [
       "1 + hD + 1/2*hD^2 + 1/6*hD^3 + 1/24*hD^4 + 1/120*hD^5 + 1/720*hD^6 + 1/5040*hD^7 + O(hD^8)"
      ]
     },
     "execution_count": 1,
     "metadata": {},
     "output_type": "execute_result"
    }
   ],
   "source": [
    "R.<hD> = QQ[[]]\n",
    "ser = hD + O(hD^8)\n",
    "Z = ser.exp()\n",
    "Z"
   ]
  },
  {
   "cell_type": "markdown",
   "id": "000384b1",
   "metadata": {},
   "source": [
    "We can interpret Taylor's theorem as stating that $Z$ is an operator that *shifts* a smooth function $u(x)$ to the function $u(x+h)$. Thus, for example, the forward difference formula is represented by the series"
   ]
  },
  {
   "cell_type": "code",
   "execution_count": 2,
   "id": "781350b5",
   "metadata": {},
   "outputs": [
    {
     "data": {
      "text/plain": [
       "hD + 1/2*hD^2 + 1/6*hD^3 + 1/24*hD^4 + 1/120*hD^5 + 1/720*hD^6 + 1/5040*hD^7 + O(hD^8)"
      ]
     },
     "execution_count": 2,
     "metadata": {},
     "output_type": "execute_result"
    }
   ],
   "source": [
    "fd1 = Z - 1\n",
    "fd1"
   ]
  },
  {
   "cell_type": "markdown",
   "id": "886321a5",
   "metadata": {},
   "source": [
    "Hence the truncation error is \n",
    "\n",
    "$$\n",
    "\\frac{Z-1}{h} - D = \\frac{1}{2}h D^2 + O(h^2),\n",
    "$$\n",
    "\n",
    "which restates the example above. Similarly, the two-term backward difference is also first-order accurate:"
   ]
  },
  {
   "cell_type": "code",
   "execution_count": 3,
   "id": "70bc0ebb",
   "metadata": {},
   "outputs": [
    {
     "data": {
      "text/plain": [
       "hD - 1/2*hD^2 + 1/6*hD^3 - 1/24*hD^4 + 1/120*hD^5 - 1/720*hD^6 + 1/5040*hD^7 + O(hD^8)"
      ]
     },
     "execution_count": 3,
     "metadata": {},
     "output_type": "execute_result"
    }
   ],
   "source": [
    "bd1 = 1 - Z^(-1) \n",
    "bd1"
   ]
  },
  {
   "cell_type": "markdown",
   "id": "2737270e",
   "metadata": {},
   "source": [
    "The centered difference, however, is second-order accurate:"
   ]
  },
  {
   "cell_type": "code",
   "execution_count": 4,
   "id": "b0ac06fc",
   "metadata": {},
   "outputs": [
    {
     "data": {
      "text/plain": [
       "hD + 1/6*hD^3 + 1/120*hD^5 + 1/5040*hD^7 + O(hD^8)"
      ]
     },
     "execution_count": 4,
     "metadata": {},
     "output_type": "execute_result"
    }
   ],
   "source": [
    "cd2 = (Z - Z^(-1))/2\n",
    "cd2"
   ]
  },
  {
   "cell_type": "markdown",
   "id": "3c5cf246",
   "metadata": {},
   "source": [
    "$$\n",
    "u(x+h) - u(x) & = hu'(x) + \\frac{1}{2}h^2u''(x) + \\cdots \\\\ \n",
    "\\frac{u(x+h)-u(x-h)}{2h} - u'(x) &= \\frac{1}{6} h^2 u'''(x) + O(h^4).\n",
    "$$\n",
    "\n",
    "One interpretation is that the antisymmetry around $h=0$ buys us an extra order.\n",
    "\n",
    "## Derivations\n",
    "\n",
    "The power series analysis can be used to derive new FD methods on equispaced grids. You decide which nodes to include (i.e., the **stencil** of the method), give each function value an unknown coefficient, expand everything around the evaluation point, and choose the coefficients to cancel out as many terms as possible. \n",
    "\n",
    "There is a more direct method, though. Formally, $Z=e^{hD}$ around $h=0$, so that $hD = \\log(Z)$ around $Z=1$. Hence, finite difference formulas are found by truncating expansions of $\\log(z)$ around $z=1$:"
   ]
  },
  {
   "cell_type": "code",
   "execution_count": 5,
   "id": "045cb53d",
   "metadata": {},
   "outputs": [
    {
     "data": {
      "text/plain": [
       "-1/4*(z - 1)^4 + 1/3*(z - 1)^3 - 1/2*(z - 1)^2 + z - 1"
      ]
     },
     "execution_count": 5,
     "metadata": {},
     "output_type": "execute_result"
    }
   ],
   "source": [
    "var('z')\n",
    "taylor(log(z),z,1,4)"
   ]
  },
  {
   "cell_type": "markdown",
   "id": "b19214aa",
   "metadata": {},
   "source": [
    "If we didn't already know the two-point forward difference formula, we'd start with\n",
    "\n",
    "$$\n",
    "\\frac{a_1 u(h) + a_0 u(0)}{h} & \\approx u'(0), \\\\ \n",
    "a_1 Zu(0) + a_0u(0) & \\approx hDu(0), \\\\ \n",
    "a_1 Z + a_0 & \\approx \\log(Z). \n",
    "$$\n",
    "\n",
    "Hence,"
   ]
  },
  {
   "cell_type": "code",
   "execution_count": 6,
   "id": "75e43149",
   "metadata": {},
   "outputs": [
    {
     "data": {
      "text/plain": [
       "z - 1"
      ]
     },
     "execution_count": 6,
     "metadata": {},
     "output_type": "execute_result"
    }
   ],
   "source": [
    "expand(taylor(log(z),z,1,1))"
   ]
  },
  {
   "cell_type": "markdown",
   "id": "5c36e3fe",
   "metadata": {},
   "source": [
    "If we find a formula using values at $0$, $h$, and $2h$ to get $u'(0)$, then we have $a_2 Z^2 + a_1 Z + a_0 \\approx \\log(Z)$:"
   ]
  },
  {
   "cell_type": "code",
   "execution_count": 7,
   "id": "476c527c",
   "metadata": {},
   "outputs": [
    {
     "data": {
      "text/plain": [
       "-1/2*z^2 + 2*z - 3/2"
      ]
     },
     "execution_count": 7,
     "metadata": {},
     "output_type": "execute_result"
    }
   ],
   "source": [
    "expand(taylor(log(z),z,1,2))"
   ]
  },
  {
   "cell_type": "markdown",
   "id": "7792e7de",
   "metadata": {},
   "source": [
    "This corresponds to a 2nd-order forward difference on three points:\n",
    "\n",
    "$$\n",
    "\\frac{-3u(0) + 4u(h) - u(2h)}{2h} = u'(0) + O(h^2). \n",
    "$$\n",
    "\n",
    "We can derive centered, backward, and other formulas by generalizing the trick just a little. In the centered three-point formula, we have \n",
    "\n",
    "$$\n",
    "\\frac{a_{-1}u(-h) + a_0 u(0) + a_1u(h)}{h} & \\approx u'(0)  \\\\ \n",
    "a_{-1}Z^{-1} + a_0 + a_1 Z & \\approx \\log(Z) \\\\ \n",
    "a_{-1} + a_0 Z + a_1 Z^2 & \\approx Z \\log(Z) \n",
    "$$"
   ]
  },
  {
   "cell_type": "code",
   "execution_count": 8,
   "id": "8a9ca4d3",
   "metadata": {},
   "outputs": [
    {
     "data": {
      "text/plain": [
       "1/2*z^2 - 1/2"
      ]
     },
     "execution_count": 8,
     "metadata": {},
     "output_type": "execute_result"
    }
   ],
   "source": [
    "expand(taylor(z*log(z),z,1,2))"
   ]
  },
  {
   "cell_type": "markdown",
   "id": "84253ba0",
   "metadata": {},
   "source": [
    "Similarly, we can derive a five-point centered formula via"
   ]
  },
  {
   "cell_type": "code",
   "execution_count": 9,
   "id": "b0bda33c",
   "metadata": {},
   "outputs": [
    {
     "data": {
      "text/plain": [
       "-1/12*z^4 + 2/3*z^3 - 2/3*z + 1/12"
      ]
     },
     "execution_count": 9,
     "metadata": {},
     "output_type": "execute_result"
    }
   ],
   "source": [
    "expand(taylor(z^2*log(z),z,1,4))"
   ]
  },
  {
   "cell_type": "markdown",
   "id": "34d9a84a",
   "metadata": {},
   "source": [
    "## Higher derivatives\n",
    "\n",
    "We can play the same games for formulas for the 2nd and higher derivatives. Here is the most popular formula for a second derivative: centered, using three nodes:"
   ]
  },
  {
   "cell_type": "code",
   "execution_count": 10,
   "id": "618391b3",
   "metadata": {},
   "outputs": [
    {
     "data": {
      "text/plain": [
       "z^2 - 2*z + 1"
      ]
     },
     "execution_count": 10,
     "metadata": {},
     "output_type": "execute_result"
    }
   ],
   "source": [
    "expand(taylor(z*log(z)^2,z,1,3))"
   ]
  },
  {
   "cell_type": "markdown",
   "id": "ca09ec5c",
   "metadata": {},
   "source": [
    "We can verify that the formula is second-order accurate:"
   ]
  },
  {
   "cell_type": "code",
   "execution_count": 11,
   "id": "d6f5cb01",
   "metadata": {},
   "outputs": [
    {
     "data": {
      "text/plain": [
       "hD^2 + 1/12*hD^4 + 1/360*hD^6 + O(hD^8)"
      ]
     },
     "execution_count": 11,
     "metadata": {},
     "output_type": "execute_result"
    }
   ],
   "source": [
    "(Z^2-2*Z+1)/Z"
   ]
  },
  {
   "cell_type": "markdown",
   "id": "8adaa8ad",
   "metadata": {},
   "source": [
    "I.e.,\n",
    "\n",
    "$$\n",
    "u''(0) = \\frac{u_{-1}-2u_0+u_1}{h^2} - \\frac{1}{12}h^2 u^{(4)}(0) + O(h^4).\n",
    "$$\n",
    "\n",
    "This can be carried out to 4th-order using 5 points:"
   ]
  },
  {
   "cell_type": "code",
   "execution_count": 12,
   "id": "9d2475db",
   "metadata": {},
   "outputs": [
    {
     "data": {
      "text/plain": [
       "-1/12*z^4 + 4/3*z^3 - 5/2*z^2 + 4/3*z - 1/12"
      ]
     },
     "execution_count": 12,
     "metadata": {},
     "output_type": "execute_result"
    }
   ],
   "source": [
    "expand(taylor(z^2*log(z)^2,z,1,5))"
   ]
  },
  {
   "cell_type": "code",
   "execution_count": 13,
   "id": "0a53c0f6",
   "metadata": {},
   "outputs": [
    {
     "data": {
      "text/plain": [
       "hD^2 - 1/90*hD^6 + O(hD^8)"
      ]
     },
     "execution_count": 13,
     "metadata": {},
     "output_type": "execute_result"
    }
   ],
   "source": [
    "(-1/12*Z^4 + 4/3*Z^3 - 5/2*Z^2 + 4/3*Z - 1/12)/Z^2"
   ]
  },
  {
   "cell_type": "markdown",
   "id": "8f030636",
   "metadata": {},
   "source": [
    "We can also do asymmetric (forward and backward) formulas:"
   ]
  },
  {
   "cell_type": "code",
   "execution_count": 14,
   "id": "8f51dc51",
   "metadata": {},
   "outputs": [
    {
     "data": {
      "text/plain": [
       "-z^3 + 4*z^2 - 5*z + 2"
      ]
     },
     "execution_count": 14,
     "metadata": {},
     "output_type": "execute_result"
    }
   ],
   "source": [
    "expand(taylor(log(z)^2,z,1,3))"
   ]
  },
  {
   "cell_type": "markdown",
   "id": "6482b86c",
   "metadata": {},
   "source": [
    "I.e.,\n",
    "\n",
    "$$\n",
    "u''(0) = \\frac{2u_{0}-5u_1+4u_2 - u_3}{h^2} + O(h^2).\n",
    "$$"
   ]
  }
 ],
 "metadata": {
  "jupytext": {
   "cell_metadata_filter": "-all",
   "formats": "md:myst",
   "text_representation": {
    "extension": ".md",
    "format_name": "myst",
    "format_version": 0.13,
    "jupytext_version": "1.14.1"
   }
  },
  "kernelspec": {
   "display_name": "SageMath 9.6",
   "language": "sage",
   "name": "sagemath-9.6"
  },
  "language_info": {
   "codemirror_mode": {
    "name": "ipython",
    "version": 3
   },
   "file_extension": ".py",
   "mimetype": "text/x-python",
   "name": "python",
   "nbconvert_exporter": "python",
   "pygments_lexer": "ipython3",
   "version": "3.10.3"
  },
  "source_map": [
   14,
   43,
   48,
   52,
   55,
   65,
   68,
   72,
   75,
   90,
   93,
   105,
   107,
   111,
   113,
   129,
   131,
   135,
   137,
   143,
   145,
   149,
   151,
   160,
   164,
   166,
   170,
   172
  ]
 },
 "nbformat": 4,
 "nbformat_minor": 5
}