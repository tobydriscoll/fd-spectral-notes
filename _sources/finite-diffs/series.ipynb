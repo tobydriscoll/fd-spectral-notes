{
 "cells": [
  {
   "cell_type": "markdown",
   "id": "b113ef11",
   "metadata": {},
   "source": [
    "# Power series and finite differences\n",
    "\n",
    "A standard way to uncover the accuracy of a finite-difference formula is by expansion in power series. \n",
    "\n",
    ":::{prf:definition} Truncation error for finite differences\n",
    "If $d_h(u)$ is a finite-difference approximation to $u'(0)$, the **truncation error** of the approximation is \n",
    "\n",
    "$$\n",
    "T(h) = d_h(u) - u'(0). \n",
    "$$\n",
    "\n",
    "The power of $h$ in the leading term of $T(h)$ is the **order of accuracy** of the FD formula. \n",
    ":::\n",
    "\n",
    "::::{prf:example}\n",
    "For the forward-difference formula applied to a smooth $u(x)$,\n",
    "\n",
    "$$\n",
    "T(h) &= \\frac{u(h)-u(0)}{h} - u'(0) \\\\ \n",
    "&= \\frac{hu'(0) + \\tfrac{1}{2}h^2u''(0) + \\cdots}{h} - u'(0) = \\tfrac{1}{2}hu''(0) + O(h^2). \n",
    "$$\n",
    "\n",
    "Thus, it is a first-order method.\n",
    "::::\n",
    "\n",
    "There is a lot of boilerplate in these calculations that we can condense using formal power series. Suppose $hD$ represents the differentiation operator times the step size $h$. Then define $Z=\\exp(hD)$. In Sage, this is done via the following:"
   ]
  },
  {
   "cell_type": "code",
   "execution_count": null,
   "id": "2eb3e73f",
   "metadata": {},
   "outputs": [],
   "source": [
    "R.<hD> = QQ[[]]\n",
    "ser = hD + O(hD^8)\n",
    "Z = ser.exp()\n",
    "Z"
   ]
  },
  {
   "cell_type": "markdown",
   "id": "45dc2a39",
   "metadata": {},
   "source": [
    "We can interpret Taylor's theorem as stating that $Z$ is an operator that *shifts* a smooth function $u(x)$ to the function $u(x+h)$. Thus, for example, the forward difference formula is represented by the series"
   ]
  },
  {
   "cell_type": "code",
   "execution_count": null,
   "id": "45b92feb",
   "metadata": {},
   "outputs": [],
   "source": [
    "fd1 = Z - 1\n",
    "fd1"
   ]
  },
  {
   "cell_type": "markdown",
   "id": "23f954eb",
   "metadata": {},
   "source": [
    "Hence the truncation error is \n",
    "\n",
    "$$\n",
    "\\frac{Z-1}{h} - D = \\frac{1}{2}h D^2 + O(h^2),\n",
    "$$\n",
    "\n",
    "which restates the example above. Similarly, the two-term backward difference is also first-order accurate:"
   ]
  },
  {
   "cell_type": "code",
   "execution_count": null,
   "id": "061a373b",
   "metadata": {},
   "outputs": [],
   "source": [
    "bd1 = 1 - Z^(-1) \n",
    "bd1"
   ]
  },
  {
   "cell_type": "markdown",
   "id": "6e8924d6",
   "metadata": {},
   "source": [
    "The centered difference, however, is second-order accurate:"
   ]
  },
  {
   "cell_type": "code",
   "execution_count": null,
   "id": "8c2289f8",
   "metadata": {},
   "outputs": [],
   "source": [
    "cd2 = (Z - Z^(-1))/2\n",
    "cd2"
   ]
  },
  {
   "cell_type": "markdown",
   "id": "9ae83a13",
   "metadata": {},
   "source": [
    "$$\n",
    "u(x+h) - u(x) & = hu'(x) + \\frac{1}{2}h^2u''(x) + \\cdots \\\\ \n",
    "\\frac{u(x+h)-u(x-h)}{2h} - u'(x) &= \\frac{1}{6} h^2 u'''(x) + O(h^4).\n",
    "$$\n",
    "\n",
    "One interpretation is that the antisymmetry around $h=0$ buys us an extra order.\n",
    "\n",
    "## Derivations\n",
    "\n",
    "The power series analysis can be used to derive new FD methods on equispaced grids. You decide which nodes to include (i.e., the **stencil** of the method), give each function value an unknown coefficient, expand everything around the evaluation point, and choose the coefficients to cancel out as many terms as possible. \n",
    "\n",
    "There is a more direct method, though. Formally, $Z=e^{hD}$ around $h=0$, so that $hD = \\log(Z)$ around $Z=1$. Hence, finite difference formulas are found by truncating expansions of $\\log(z)$ around $z=1$:"
   ]
  },
  {
   "cell_type": "code",
   "execution_count": null,
   "id": "94b4b36f",
   "metadata": {},
   "outputs": [],
   "source": [
    "var('z')\n",
    "taylor(log(z),z,1,4)"
   ]
  },
  {
   "cell_type": "markdown",
   "id": "55fc62f6",
   "metadata": {},
   "source": [
    "If we didn't already know the two-point forward difference formula, we'd start with\n",
    "\n",
    "$$\n",
    "\\frac{a_1 u(h) + a_0 u(0)}{h} & \\approx u'(0), \\\\ \n",
    "a_1 Zu(0) + a_0u(0) & \\approx hDu(0), \\\\ \n",
    "a_1 Z + a_0 & \\approx \\log(Z). \n",
    "$$\n",
    "\n",
    "Hence,"
   ]
  },
  {
   "cell_type": "code",
   "execution_count": null,
   "id": "714740fc",
   "metadata": {},
   "outputs": [],
   "source": [
    "expand(taylor(log(z),z,1,1))"
   ]
  },
  {
   "cell_type": "markdown",
   "id": "db326930",
   "metadata": {},
   "source": [
    "If we find a formula using values at $0$, $h$, and $2h$ to get $u'(0)$, then we have $a_2 Z^2 + a_1 Z + a_0 \\approx \\log(Z)$:"
   ]
  },
  {
   "cell_type": "code",
   "execution_count": null,
   "id": "3ecd0789",
   "metadata": {},
   "outputs": [],
   "source": [
    "expand(taylor(log(z),z,1,2))"
   ]
  },
  {
   "cell_type": "markdown",
   "id": "98d7ec51",
   "metadata": {},
   "source": [
    "This corresponds to a 2nd-order forward difference on three points:\n",
    "\n",
    "$$\n",
    "\\frac{-3u(0) + 4u(h) - u(2h)}{2h} = u'(0) + O(h^2). \n",
    "$$\n",
    "\n",
    "We can derive centered, backward, and other formulas by generalizing the trick just a little. In the centered three-point formula, we have \n",
    "\n",
    "$$\n",
    "\\frac{a_{-1}u(-h) + a_0 u(0) + a_1u(h)}{h} & \\approx u'(0)  \\\\ \n",
    "a_{-1}Z^{-1} + a_0 + a_1 Z & \\approx \\log(Z) \\\\ \n",
    "a_{-1} + a_0 Z + a_1 Z^2 & \\approx Z \\log(Z) \n",
    "$$"
   ]
  },
  {
   "cell_type": "code",
   "execution_count": null,
   "id": "c61d7263",
   "metadata": {},
   "outputs": [],
   "source": [
    "expand(taylor(z*log(z),z,1,2))"
   ]
  },
  {
   "cell_type": "markdown",
   "id": "21bc3722",
   "metadata": {},
   "source": [
    "Similarly, we can derive a five-point centered formula via"
   ]
  },
  {
   "cell_type": "code",
   "execution_count": null,
   "id": "0c160f33",
   "metadata": {},
   "outputs": [],
   "source": [
    "expand(taylor(z^2*log(z),z,1,4))"
   ]
  },
  {
   "cell_type": "markdown",
   "id": "3c6c5d98",
   "metadata": {},
   "source": [
    "## Higher derivatives\n",
    "\n",
    "We can play the same games for formulas for the 2nd and higher derivatives. Here is the most popular formula for a second derivative: centered, using three nodes:"
   ]
  },
  {
   "cell_type": "code",
   "execution_count": null,
   "id": "401f8b7f",
   "metadata": {},
   "outputs": [],
   "source": [
    "expand(taylor(z*log(z)^2,z,1,3))"
   ]
  },
  {
   "cell_type": "markdown",
   "id": "01f18076",
   "metadata": {},
   "source": [
    "We can verify that the formula is second-order accurate:"
   ]
  },
  {
   "cell_type": "code",
   "execution_count": null,
   "id": "c2dd4793",
   "metadata": {},
   "outputs": [],
   "source": [
    "(Z^2-2*Z+1)/Z"
   ]
  },
  {
   "cell_type": "markdown",
   "id": "f7dff6b2",
   "metadata": {},
   "source": [
    "I.e.,\n",
    "\n",
    "$$\n",
    "u''(0) = \\frac{u_{-1}-2u_0+u_1}{h^2} - \\frac{1}{12}h^2 u^{(4)}(0) + O(h^4).\n",
    "$$\n",
    "\n",
    "This can be carried out to 4th-order using 5 points:"
   ]
  },
  {
   "cell_type": "code",
   "execution_count": null,
   "id": "b7031e12",
   "metadata": {},
   "outputs": [],
   "source": [
    "expand(taylor(z^2*log(z)^2,z,1,5))"
   ]
  },
  {
   "cell_type": "code",
   "execution_count": null,
   "id": "a1038102",
   "metadata": {},
   "outputs": [],
   "source": [
    "(-1/12*Z^4 + 4/3*Z^3 - 5/2*Z^2 + 4/3*Z - 1/12)/Z^2"
   ]
  },
  {
   "cell_type": "markdown",
   "id": "5dac9d07",
   "metadata": {},
   "source": [
    "We can also do asymmetric (forward and backward) formulas:"
   ]
  },
  {
   "cell_type": "code",
   "execution_count": null,
   "id": "d71fbed0",
   "metadata": {},
   "outputs": [],
   "source": [
    "expand(taylor(log(z)^2,z,1,3))"
   ]
  },
  {
   "cell_type": "markdown",
   "id": "3deb6840",
   "metadata": {},
   "source": [
    "I.e.,\n",
    "\n",
    "$$\n",
    "u''(0) = \\frac{2u_{0}-5u_1+4u_2 - u_3}{h^2} + O(h^2).\n",
    "$$"
   ]
  }
 ],
 "metadata": {
  "jupytext": {
   "cell_metadata_filter": "-all",
   "formats": "md:myst",
   "text_representation": {
    "extension": ".md",
    "format_name": "myst",
    "format_version": 0.13,
    "jupytext_version": "1.14.1"
   }
  },
  "kernelspec": {
   "display_name": "SageMath 9.6",
   "language": "sage",
   "name": "sagemath-9.6"
  },
  "source_map": [
   14,
   43,
   48,
   52,
   55,
   65,
   68,
   72,
   75,
   90,
   93,
   105,
   107,
   111,
   113,
   129,
   131,
   135,
   137,
   143,
   145,
   149,
   151,
   160,
   164,
   166,
   170,
   172
  ]
 },
 "nbformat": 4,
 "nbformat_minor": 5
}