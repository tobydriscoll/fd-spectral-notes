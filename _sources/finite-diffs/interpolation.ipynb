{
 "cells": [
  {
   "cell_type": "markdown",
   "id": "d4788d33",
   "metadata": {},
   "source": [
    "# Interpolation and finite differences\n",
    "\n",
    "An equivalent but different way to look at finite differences is *interpolate-differentiate-evaluate*. For example, consider again the humble two-point forward difference\n",
    "\n",
    "$$\n",
    "\\frac{a_1 u(h) + a_0 u(0)}{h}  \\approx u'(0). \n",
    "$$\n",
    "\n",
    "If we draw the secant line through the points $(0,u(0))$ and $(h,u(h))$, then its slope is $(u(h)-u(0))/h$, and we recover the first-order formula. The three-point centered difference \n",
    "\n",
    "$$\n",
    "\\frac{a_{-1}u(-h) + a_0 u(0) + a_1u(h)}{h} \\approx u'(0) \n",
    "$$\n",
    "\n",
    "suggests interpolation by a parabola through three points:\n",
    "\n",
    "$$\n",
    "P(x) = \\frac{u(-h) \\cdot x(x-h) - 2 u(0)\\cdot (x^2-h^2) + u(h)\\cdot x(x+h)}{2h^2}. \n",
    "$$\n",
    "\n",
    "From this, we can derive\n",
    "\n",
    "$$\n",
    "u'(0) \\approx P'(0) = -\\frac{1}{2h} u(-h) + 0 u(0) + \\frac{1}{2h} u(h), \n",
    "$$\n",
    "\n",
    "as well as\n",
    "\n",
    "$$\n",
    "u'(-h) \\approx P'(-h) = -\\frac{3}{2h} u(-h) + \\frac{2}{h} u(0) - \\frac{1}{2h} u(h), \n",
    "$$\n",
    "\n",
    "which is the three-point forward formula we derived by power series. For that matter, we can also derive a centered formula for the second derivative,\n",
    "\n",
    "$$\n",
    "u''(0) \\approx P''(0) = \\frac{1}{h^2} u(-h) - \\frac{2}{h^2} u(0) + \\frac{1}{h^2} u(h),\n",
    "$$\n",
    "\n",
    "which happens to be second-order accurate.\n",
    "\n",
    "## Fornberg's algorithm\n",
    "\n",
    "A ton is known about interpolating polynomials. One of the landmark results is the **Lagrange interpolating form**. The polynomial of degree no more than $n$ passing through $n+1$ points $(x_i,y_i)$ for $i=0,\\ldots,n$ is \n",
    "\n",
    "$$\n",
    "P(x) = \\sum_{i=0}^n y_i \\ell_i(x), \n",
    "$$\n",
    "\n",
    "where each $\\ell_i$ is the **cardinal polynomial** \n",
    "\n",
    "$$\n",
    "\\ell_i(x) = \\frac{\\Phi(x)}{\\Phi'(x_i)} = \\frac{(x-x_0)\\cdots(x-x_{i-1})(x-x_{i+1})\\cdots(x-x_n)}{(x_i-x_0)\\cdots(x_i-x_{i-1})(x_i-x_{i+1})\\cdots(x_i-x_n)},\n",
    "$$\n",
    "\n",
    "where $\\Phi(x)=\\prod (x-x_i)$ is a polynomial we will keep in our pocket for later. This famous formula is not a good one to use directly for numerical computation, but it does lead to some recursive definitions that can be used to derive a general finite-difference formula. That is, given nodes $x_i$ for $i=0,\\ldots,n$ and a derivative order $m$, we can find the **weights** $w_i$ such that\n",
    "\n",
    "$$\n",
    "\\sum_{i=0}^n w_i u(x_i) \\approx u^{(m)}(0)\n",
    "$$\n",
    "\n",
    "with order of accuracy at least $n-m+1$. The algorithm is due to Fornberg. We don't present it here, but we note that it is available in Julia's `FiniteDifferences` package:"
   ]
  },
  {
   "cell_type": "code",
   "execution_count": 1,
   "id": "95f87d9a",
   "metadata": {},
   "outputs": [
    {
     "ename": "LoadError",
     "evalue": "MethodError: no method matching FiniteDifferenceMethod(::Vector{Float64}, ::Int64)\n\u001b[0mClosest candidates are:\n\u001b[0m  FiniteDifferenceMethod(\u001b[91m::StaticArraysCore.SVector{P, Int64}\u001b[39m, ::Int64; condition, factor, max_range) where P at ~/.julia/packages/FiniteDifferences/VpgIT/src/methods.jl:131\n\u001b[0m  FiniteDifferenceMethod(\u001b[91m::AbstractVector{Int64}\u001b[39m, ::Int64; kw_args...) at ~/.julia/packages/FiniteDifferences/VpgIT/src/methods.jl:151",
     "output_type": "error",
     "traceback": [
      "MethodError: no method matching FiniteDifferenceMethod(::Vector{Float64}, ::Int64)\n\u001b[0mClosest candidates are:\n\u001b[0m  FiniteDifferenceMethod(\u001b[91m::StaticArraysCore.SVector{P, Int64}\u001b[39m, ::Int64; condition, factor, max_range) where P at ~/.julia/packages/FiniteDifferences/VpgIT/src/methods.jl:131\n\u001b[0m  FiniteDifferenceMethod(\u001b[91m::AbstractVector{Int64}\u001b[39m, ::Int64; kw_args...) at ~/.julia/packages/FiniteDifferences/VpgIT/src/methods.jl:151",
      "",
      "Stacktrace:",
      " [1] top-level scope",
      "   @ In[1]:3",
      " [2] eval",
      "   @ ./boot.jl:368 [inlined]",
      " [3] include_string(mapexpr::typeof(REPL.softscope), mod::Module, code::String, filename::String)",
      "   @ Base ./loading.jl:1428"
     ]
    }
   ],
   "source": [
    "using FiniteDifferences\n",
    "nodes = [-3,-1.5,0,1,2]\n",
    "fd = FiniteDifferenceMethod(nodes,2)  # 2nd derivative"
   ]
  },
  {
   "cell_type": "code",
   "execution_count": 2,
   "id": "9a8990c1",
   "metadata": {},
   "outputs": [
    {
     "ename": "LoadError",
     "evalue": "type #fd has no field coefs",
     "output_type": "error",
     "traceback": [
      "type #fd has no field coefs",
      "",
      "Stacktrace:",
      " [1] getproperty(x::Function, f::Symbol)",
      "   @ Base ./Base.jl:38",
      " [2] top-level scope",
      "   @ In[2]:2",
      " [3] eval",
      "   @ ./boot.jl:368 [inlined]",
      " [4] include_string(mapexpr::typeof(REPL.softscope), mod::Module, code::String, filename::String)",
      "   @ Base ./loading.jl:1428"
     ]
    }
   ],
   "source": [
    "using LinearAlgebra\n",
    "w = fd.coefs\n",
    "f = x->cos(2x)\n",
    "h = 0.05; \n",
    "err1 = dot(w/h^2,f.(h*nodes)) + 4"
   ]
  },
  {
   "cell_type": "code",
   "execution_count": 3,
   "id": "782db68a",
   "metadata": {},
   "outputs": [
    {
     "ename": "LoadError",
     "evalue": "UndefVarError: w not defined",
     "output_type": "error",
     "traceback": [
      "UndefVarError: w not defined",
      "",
      "Stacktrace:",
      " [1] top-level scope",
      "   @ In[3]:2",
      " [2] eval",
      "   @ ./boot.jl:368 [inlined]",
      " [3] include_string(mapexpr::typeof(REPL.softscope), mod::Module, code::String, filename::String)",
      "   @ Base ./loading.jl:1428"
     ]
    }
   ],
   "source": [
    "h = 0.05/2; \n",
    "err2 = dot(w/h^2,f.(h*nodes)) + 4"
   ]
  },
  {
   "cell_type": "code",
   "execution_count": 4,
   "id": "c35fe0ce",
   "metadata": {},
   "outputs": [
    {
     "ename": "LoadError",
     "evalue": "UndefVarError: err1 not defined",
     "output_type": "error",
     "traceback": [
      "UndefVarError: err1 not defined",
      "",
      "Stacktrace:",
      " [1] top-level scope",
      "   @ In[4]:1",
      " [2] eval",
      "   @ ./boot.jl:368 [inlined]",
      " [3] include_string(mapexpr::typeof(REPL.softscope), mod::Module, code::String, filename::String)",
      "   @ Base ./loading.jl:1428"
     ]
    }
   ],
   "source": [
    "log2(err1/err2)"
   ]
  },
  {
   "cell_type": "code",
   "execution_count": null,
   "id": "d262321e",
   "metadata": {},
   "outputs": [],
   "source": []
  }
 ],
 "metadata": {
  "jupytext": {
   "cell_metadata_filter": "-all",
   "formats": "md:myst",
   "text_representation": {
    "extension": ".md",
    "format_name": "myst",
    "format_version": 0.13,
    "jupytext_version": "1.14.1"
   }
  },
  "kernelspec": {
   "display_name": "Julia 1.8.0-rc3",
   "language": "julia",
   "name": "julia-1.8"
  },
  "language_info": {
   "file_extension": ".jl",
   "mimetype": "application/julia",
   "name": "julia",
   "version": "1.8.0"
  },
  "source_map": [
   14,
   78,
   84,
   92,
   97,
   101
  ]
 },
 "nbformat": 4,
 "nbformat_minor": 5
}