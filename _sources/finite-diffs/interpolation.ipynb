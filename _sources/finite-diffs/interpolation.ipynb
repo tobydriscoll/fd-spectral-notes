{
 "cells": [
  {
   "cell_type": "markdown",
   "id": "4f4297ca",
   "metadata": {},
   "source": [
    "# Interpolation and finite differences\n",
    "\n",
    "An equivalent but different way to look at finite differences is *interpolate-differentiate-evaluate*. For example, consider again the humble two-point forward difference\n",
    "\n",
    "$$\n",
    "\\frac{a_1 u(h) + a_0 u(0)}{h}  \\approx u'(0). \n",
    "$$\n",
    "\n",
    "If we draw the secant line through the points $(0,u(0))$ and $(h,u(h))$, then its slope is $(u(h)-u(0))/h$, and we recover the first-order formula. The three-point centered difference \n",
    "\n",
    "$$\n",
    "\\frac{a_{-1}u(-h) + a_0 u(0) + a_1u(h)}{h} \\approx u'(0) \n",
    "$$\n",
    "\n",
    "suggests interpolation by a parabola through three points:\n",
    "\n",
    "$$\n",
    "P(x) = \\frac{u(-h) \\cdot x(x-h) - 2 u(0)\\cdot (x^2-h^2) + u(h)\\cdot x(x+h)}{2h^2}. \n",
    "$$\n",
    "\n",
    "From this, we can derive\n",
    "\n",
    "$$\n",
    "u'(0) \\approx P'(0) = -\\frac{1}{2h} u(-h) + 0 u(0) + \\frac{1}{2h} u(h), \n",
    "$$\n",
    "\n",
    "as well as\n",
    "\n",
    "$$\n",
    "u'(-h) \\approx P'(-h) = -\\frac{3}{2h} u(-h) + \\frac{2}{h} u(0) - \\frac{1}{2h} u(h), \n",
    "$$\n",
    "\n",
    "which is the three-point forward formula we derived by power series. For that matter, we can also derive a centered formula for the second derivative,\n",
    "\n",
    "$$\n",
    "u''(0) \\approx P''(0) = \\frac{1}{h^2} u(-h) - \\frac{2}{h^2} u(0) + \\frac{1}{h^2} u(h),\n",
    "$$\n",
    "\n",
    "which happens to be second-order accurate.\n",
    "\n",
    "## Fornberg's algorithm\n",
    "\n",
    "A ton is known about interpolating polynomials. One of the landmark results is the **Lagrange interpolating form**. The polynomial of degree no more than $n$ passing through $n+1$ points $(x_i,y_i)$ for $i=0,\\ldots,n$ is \n",
    "\n",
    "$$\n",
    "P(x) = \\sum_{i=0}^n y_i \\ell_i(x), \n",
    "$$\n",
    "\n",
    "where each $\\ell_i$ is the **cardinal polynomial** \n",
    "\n",
    "$$\n",
    "\\ell_i(x) = \\frac{\\Phi(x)}{\\Phi'(x_i)(x-x_i)} = \\frac{(x-x_0)\\cdots(x-x_{i-1})(x-x_{i+1})\\cdots(x-x_n)}{(x_i-x_0)\\cdots(x_i-x_{i-1})(x_i-x_{i+1})\\cdots(x_i-x_n)},\n",
    "$$\n",
    "\n",
    "where $\\Phi(x)=\\prod (x-x_i)$ is a polynomial we will keep in our pocket for later. This famous formula is not a good one to use directly for numerical computation, but it does lead to some recursive definitions that can be used to derive a general finite-difference formula. That is, given nodes $x_i$ for $i=0,\\ldots,n$ and a derivative order $m$, we can find the **weights** $w_i$ such that\n",
    "\n",
    "$$\n",
    "\\sum_{i=0}^n w_i u(x_i) \\approx u^{(m)}(0)\n",
    "$$\n",
    "\n",
    "with order of accuracy at least $n-m+1$. The algorithm is due to Fornberg."
   ]
  },
  {
   "cell_type": "code",
   "execution_count": 1,
   "id": "2a506beb",
   "metadata": {},
   "outputs": [],
   "source": [
    "\"\"\"\n",
    "    fdweights(t,m)\n",
    "\n",
    "Compute weights for the `m`th derivative of a function at zero using\n",
    "values at the nodes in vector `t`.\n",
    "\"\"\"\n",
    "function fdweights(t,m)\n",
    "    # Recursion for one weight. \n",
    "    function weight(t,m,r,k)\n",
    "        # Inputs\n",
    "        #   t: vector of nodes \n",
    "        #   m: order of derivative sought \n",
    "        #   r: number of nodes to use from t \n",
    "        #   k: index of node whose weight is found\n",
    "\n",
    "        if (m<0) || (m>r)        # undefined coeffs must be zero\n",
    "            c = 0\n",
    "        elseif (m==0) && (r==0)  # base case of one-point interpolation\n",
    "            c = 1\n",
    "        else                     # generic recursion\n",
    "            if k<r\n",
    "                c = (t[r+1]*weight(t,m,r-1,k) -\n",
    "                    m*weight(t,m-1,r-1,k))/(t[r+1]-t[k+1])\n",
    "            else\n",
    "                numer = r > 1 ? prod(t[r]-x for x in t[1:r-1]) : 1\n",
    "                denom = r > 0 ? prod(t[r+1]-x for x in t[1:r]) : 1\n",
    "                β = numer/denom\n",
    "                c = β*(m*weight(t,m-1,r-1,r-1) - t[r]*weight(t,m,r-1,r-1))\n",
    "            end\n",
    "        end\n",
    "        return c\n",
    "    end\n",
    "    r = length(t)-1\n",
    "    w = zeros(size(t))\n",
    "    return [ weight(t,m,r,k) for k=0:r ]\n",
    "end;"
   ]
  },
  {
   "cell_type": "code",
   "execution_count": 2,
   "id": "471bf7af",
   "metadata": {},
   "outputs": [
    {
     "data": {
      "text/plain": [
       "1.2094851816968344e-5"
      ]
     },
     "execution_count": 2,
     "metadata": {},
     "output_type": "execute_result"
    }
   ],
   "source": [
    "using LinearAlgebra\n",
    "nodes = [-3,-1.25,0,1,1.9]\n",
    "w = fdweights(nodes,2)  # 2nd derivative weights\n",
    "f = x->cos(2x)\n",
    "h = 0.05; \n",
    "err1 = dot(w/h^2,f.(h*nodes)) + 4"
   ]
  },
  {
   "cell_type": "code",
   "execution_count": 3,
   "id": "3dc3d93a",
   "metadata": {},
   "outputs": [
    {
     "data": {
      "text/plain": [
       "7.5694981749308e-7"
      ]
     },
     "execution_count": 3,
     "metadata": {},
     "output_type": "execute_result"
    }
   ],
   "source": [
    "h = 0.05/2; \n",
    "err2 = dot(w/h^2,f.(h*nodes)) + 4"
   ]
  },
  {
   "cell_type": "code",
   "execution_count": 4,
   "id": "1943cdd7",
   "metadata": {},
   "outputs": [
    {
     "data": {
      "text/plain": [
       "3.9980516247453144"
      ]
     },
     "execution_count": 4,
     "metadata": {},
     "output_type": "execute_result"
    }
   ],
   "source": [
    "log2(err1/err2)"
   ]
  },
  {
   "cell_type": "markdown",
   "id": "b4c5422d",
   "metadata": {},
   "source": [
    "## Hermite error formula\n",
    "\n",
    "Another valuable byproduct of the connection to interpolation is the **Hermite error formula**. Consider first the cardinal function \n",
    "\n",
    "$$\n",
    "\\ell_i(x) = \\frac{\\Phi(x)}{\\Phi'(x_i)(x-x_i)}. \n",
    "$$\n",
    "\n",
    "We'll go into the complex plane with a closed contour $C_i$ that encloses $x_i$ but not any other node, nor the fixed (for now) point $x$. Cauchy tells us that\n",
    "\n",
    "$$\n",
    "\\ell_i(x) = \\frac{1}{2\\pi i} \\oint_{C_i} \\frac{\\Phi(x)}{\\Phi'(z)(x-z)} \\, dz,\n",
    "$$\n",
    "\n",
    "since the integrand is meromorphic with a simple pole at $z=x_i$. More generally, if $f(z)$ is analytic on and inside $C_i$, then\n",
    "\n",
    "$$\n",
    "\\ell_i(x)f(x_i) = \\frac{1}{2\\pi i} \\oint_{C_i} \\frac{\\Phi(x)f(z)}{\\Phi'(z)(x-z)} \\, dz.\n",
    "$$\n",
    "\n",
    "Now suppose $C$ is a closed contour enclosing all of the nodes, but not the point $x$. Then we extend the logic above to get \n",
    "\n",
    "$$\n",
    "P(x) = \\sum_i \\ell_i(x)f(x_i) = \\frac{1}{2\\pi i} \\oint_{C} \\frac{\\Phi(x)f(z)}{\\Phi'(z)(x-z)} \\, dz,\n",
    "$$\n",
    "\n",
    "which is a lovely expression for the interpolating polynomial $P$. Finally, if we extend the contour to include $x$ as well, we get one more pole at $x$ and the following result.\n",
    "\n",
    "```{prf:theorem} Hermite error formula\n",
    "If $\\Gamma$ is a simple closed contour enclosing all the nodes $x_0,\\ldots,x_n$ and the real point $x$, $f$ is analytic on and inside $\\Gamma$, and $P$ is the Lagrange interpolating polynomial for $f$ at the nodes, then \n",
    "\n",
    "$$\n",
    "P(x) - f(x) = \\frac{1}{2\\pi i} \\oint_{\\Gamma} \\frac{\\Phi(x)f(z)}{\\Phi'(z)(x-z)} \\, dz. \n",
    "$$\n",
    "```\n",
    "\n",
    "For the special case of equally spaced nodes, this formula can be used to produce order bounds on derivative errors $P'(x)-f'(x)$ at the nodes, but we won't pursue these."
   ]
  }
 ],
 "metadata": {
  "jupytext": {
   "cell_metadata_filter": "-all",
   "formats": "md:myst",
   "text_representation": {
    "extension": ".md",
    "format_name": "myst",
    "format_version": 0.13,
    "jupytext_version": "1.14.1"
   }
  },
  "kernelspec": {
   "display_name": "Julia 1.8.0",
   "language": "julia",
   "name": "julia-1.8"
  },
  "language_info": {
   "file_extension": ".jl",
   "mimetype": "application/julia",
   "name": "julia",
   "version": "1.8.0"
  },
  "source_map": [
   14,
   78,
   118,
   127,
   132,
   134
  ]
 },
 "nbformat": 4,
 "nbformat_minor": 5
}