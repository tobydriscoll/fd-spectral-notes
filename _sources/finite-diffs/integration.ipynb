{
 "cells": [
  {
   "cell_type": "markdown",
   "id": "c6948f0b",
   "metadata": {},
   "source": [
    "# Indefinite integration\n",
    "\n",
    "The simplest possible context for our first finite-difference method is the BVP\n",
    "\n",
    "$$\n",
    "u'(x) = g(x), \\quad u(a)=0, \\quad a < x < b. \n",
    "$$\n",
    "\n",
    "The solution of this problem is just an indefinite integral of $g$. Suppose we discretize the domain $[a,b]$ by choosing the nodes\n",
    "\n",
    "$$\n",
    "x_i = a + ih, \\quad h = \\frac{b-a}{n}, \\quad i=0,\\ldots,n,\n",
    "$$\n",
    "\n",
    "for a positive integer $n$. If we want to write a discrete analog of the ODE at each node, then at the first node $x_0$ we really only have one of the three options above available, the forward difference. Likewise, at $x_n$ we can only use the backward difference. At the interior nodes, suppose that we use a centered difference. This gives us the discrete equations\n",
    "\n",
    "$$\n",
    "\\frac{u_1-u_0}{h} = g(x_0), \\, \\frac{u_2-u_0}{2h} = g(x_1), \\, \\cdots \\, \\frac{u_n-u_{n-2}}{2h} = g(x_{n-1}),  \\, \\frac{u_n-u_{n-1}}{h} = g(x_{n}). \n",
    "$$\n",
    "\n",
    "It's much saner to express these using linear algebra:\n",
    "\n",
    "$$\n",
    "\\frac{1}{2h}\n",
    "\\begin{bmatrix} \n",
    "-2 & 2 & & & \\\\ \n",
    "-1 & 0 & 1 & & \\\\ \n",
    "& \\ddots & \\ddots & \\ddots  & \\\\ \n",
    "& & -1 & 0 & 1 \\\\ \n",
    "& & & -2 & 2 \n",
    "\\end{bmatrix} \n",
    "\\begin{bmatrix} u_0 \\\\ u_1 \\\\ \\vdots \\\\ u_{n-1} \\\\ u_n   \\end{bmatrix}\n",
    "= \n",
    "\\begin{bmatrix} g(x_0) \\\\ g(x_1) \\\\ \\vdots \\\\ g(x_{n-1}) \\\\ g(x_n)   \\end{bmatrix}. \n",
    "$$\n",
    "\n",
    "We will call the matrix in this system a **differentiation matrix**. It maps a vector of function values to a vector of (approximate) values of its derivative."
   ]
  },
  {
   "cell_type": "code",
   "execution_count": 1,
   "id": "92abb588",
   "metadata": {},
   "outputs": [
    {
     "data": {
      "text/plain": [
       "9×9 Matrix{Float64}:\n",
       " -8.0   8.0   0.0   0.0   0.0   0.0   0.0   0.0  0.0\n",
       " -4.0   0.0   4.0   0.0   0.0   0.0   0.0   0.0  0.0\n",
       "  0.0  -4.0   0.0   4.0   0.0   0.0   0.0   0.0  0.0\n",
       "  0.0   0.0  -4.0   0.0   4.0   0.0   0.0   0.0  0.0\n",
       "  0.0   0.0   0.0  -4.0   0.0   4.0   0.0   0.0  0.0\n",
       "  0.0   0.0   0.0   0.0  -4.0   0.0   4.0   0.0  0.0\n",
       "  0.0   0.0   0.0   0.0   0.0  -4.0   0.0   4.0  0.0\n",
       "  0.0   0.0   0.0   0.0   0.0   0.0  -4.0   0.0  4.0\n",
       "  0.0   0.0   0.0   0.0   0.0   0.0   0.0  -8.0  8.0"
      ]
     },
     "execution_count": 1,
     "metadata": {},
     "output_type": "execute_result"
    }
   ],
   "source": [
    "using LinearAlgebra\n",
    "function diffmat1(x)\n",
    "    # assumes evenly spaced nodes\n",
    "    h = x[2]-x[1]\n",
    "    m = length(x)\n",
    "    Dx = 1/2h*diagm(-1=>[-ones(m-2);-2],0=>[-2;zeros(m-2);2],1=>[2;ones(m-2)])\n",
    "end\n",
    "\n",
    "a,b = 0,1\n",
    "g = x->cos(x)\n",
    "\n",
    "n = 8\n",
    "h = (b-a)/n\n",
    "x = [a + i*h for i in 0:n]\n",
    "A = diffmat1(x)"
   ]
  },
  {
   "cell_type": "code",
   "execution_count": 2,
   "id": "dca3b57f",
   "metadata": {},
   "outputs": [
    {
     "ename": "LoadError",
     "evalue": "SingularException(9)",
     "output_type": "error",
     "traceback": [
      "SingularException(9)",
      "",
      "Stacktrace:",
      " [1] checknonsingular",
      "   @ /Applications/Julia-1.8.app/Contents/Resources/julia/share/julia/stdlib/v1.8/LinearAlgebra/src/factorization.jl:19 [inlined]",
      " [2] checknonsingular",
      "   @ /Applications/Julia-1.8.app/Contents/Resources/julia/share/julia/stdlib/v1.8/LinearAlgebra/src/factorization.jl:21 [inlined]",
      " [3] #lu!#172",
      "   @ /Applications/Julia-1.8.app/Contents/Resources/julia/share/julia/stdlib/v1.8/LinearAlgebra/src/lu.jl:82 [inlined]",
      " [4] #lu#179",
      "   @ /Applications/Julia-1.8.app/Contents/Resources/julia/share/julia/stdlib/v1.8/LinearAlgebra/src/lu.jl:279 [inlined]",
      " [5] lu (repeats 2 times)",
      "   @ /Applications/Julia-1.8.app/Contents/Resources/julia/share/julia/stdlib/v1.8/LinearAlgebra/src/lu.jl:278 [inlined]",
      " [6] \\(A::Matrix{Float64}, B::Vector{Float64})",
      "   @ LinearAlgebra /Applications/Julia-1.8.app/Contents/Resources/julia/share/julia/stdlib/v1.8/LinearAlgebra/src/generic.jl:1110",
      " [7] top-level scope",
      "   @ In[2]:2",
      " [8] eval",
      "   @ ./boot.jl:368 [inlined]",
      " [9] include_string(mapexpr::typeof(REPL.softscope), mod::Module, code::String, filename::String)",
      "   @ Base ./loading.jl:1428"
     ]
    }
   ],
   "source": [
    "b = g.(x)\n",
    "u = A\\b"
   ]
  },
  {
   "cell_type": "markdown",
   "id": "7f97949e",
   "metadata": {},
   "source": [
    "Wait, what??\n",
    "\n",
    "Sometimes when the discrete analog of the problem fails spectacularly, it's actually reflecting an important property of the original problem. Here, we've forgotten to impose the boundary/initial condition $u(a)=0$, and that makes the problem ill-posed. In fact, we know that the integration problem has a 1-dimensional nonuniqueness, and so does the matrix problem here:"
   ]
  },
  {
   "cell_type": "code",
   "execution_count": 3,
   "id": "9e7fbc16",
   "metadata": {},
   "outputs": [
    {
     "data": {
      "text/plain": [
       "9-element Vector{Float64}:\n",
       " 12.100392721451549\n",
       " 12.089289539656962\n",
       "  7.471591835346571\n",
       "  7.185353763395404\n",
       "  5.8641393337995735\n",
       "  5.245446585976806\n",
       "  3.2418642763057655\n",
       "  2.7501012990954647\n",
       "  5.3315209669936526e-17"
      ]
     },
     "execution_count": 3,
     "metadata": {},
     "output_type": "execute_result"
    }
   ],
   "source": [
    "U,σ,V = svd(A)\n",
    "σ"
   ]
  },
  {
   "cell_type": "markdown",
   "id": "ff82e3d2",
   "metadata": {},
   "source": [
    "The null space even consists of a constant solution:"
   ]
  },
  {
   "cell_type": "code",
   "execution_count": 4,
   "id": "3701f4fd",
   "metadata": {},
   "outputs": [
    {
     "data": {
      "text/plain": [
       "9-element Vector{Float64}:\n",
       " -0.3333333333333333\n",
       " -0.3333333333333333\n",
       " -0.3333333333333333\n",
       " -0.3333333333333333\n",
       " -0.3333333333333332\n",
       " -0.3333333333333332\n",
       " -0.3333333333333331\n",
       " -0.33333333333333304\n",
       " -0.33333333333333315"
      ]
     },
     "execution_count": 4,
     "metadata": {},
     "output_type": "execute_result"
    }
   ],
   "source": [
    "V[:,end]"
   ]
  },
  {
   "cell_type": "markdown",
   "id": "77e03a19",
   "metadata": {},
   "source": [
    "Let's impose the boundary condition now. In order to keep this a square linear system, we need to replace a row, not add one; the natural choice is the first row."
   ]
  },
  {
   "cell_type": "code",
   "execution_count": 5,
   "id": "b4c89f09",
   "metadata": {},
   "outputs": [
    {
     "data": {
      "text/plain": [
       "9-element Vector{Float64}:\n",
       " -2.7755575615628914e-17\n",
       "  0.1315825653503195\n",
       "  0.24804941680733222\n",
       "  0.3738106707779807\n",
       "  0.4806763222854108\n",
       "  0.5932063112505739\n",
       "  0.6834171021617153\n",
       "  0.7761285284690291\n",
       "  0.8436663167025465"
      ]
     },
     "execution_count": 5,
     "metadata": {},
     "output_type": "execute_result"
    }
   ],
   "source": [
    "A[1,1:2] = [1,0];  b[1] = 0;\n",
    "u = A\\b "
   ]
  },
  {
   "cell_type": "markdown",
   "id": "d24f2646",
   "metadata": {},
   "source": [
    "Compare to the exact solution, $u(x)=\\sin(x)$:"
   ]
  },
  {
   "cell_type": "code",
   "execution_count": 6,
   "id": "c395c9ee",
   "metadata": {},
   "outputs": [
    {
     "data": {
      "text/plain": [
       "9×2 Matrix{Float64}:\n",
       " -2.77556e-17  0.0\n",
       "  0.131583     0.124675\n",
       "  0.248049     0.247404\n",
       "  0.373811     0.366273\n",
       "  0.480676     0.479426\n",
       "  0.593206     0.585097\n",
       "  0.683417     0.681639\n",
       "  0.776129     0.767544\n",
       "  0.843666     0.841471"
      ]
     },
     "execution_count": 6,
     "metadata": {},
     "output_type": "execute_result"
    }
   ],
   "source": [
    "[u sin.(x)]"
   ]
  },
  {
   "cell_type": "markdown",
   "id": "893d4eac",
   "metadata": {},
   "source": [
    "While that's plausible, it's not conclusively correct. Let's do a convergence study."
   ]
  },
  {
   "cell_type": "code",
   "execution_count": 7,
   "id": "a375442d",
   "metadata": {},
   "outputs": [
    {
     "data": {
      "image/svg+xml": [
       "<?xml version=\"1.0\" encoding=\"utf-8\"?>\n",
       "<svg xmlns=\"http://www.w3.org/2000/svg\" xmlns:xlink=\"http://www.w3.org/1999/xlink\" width=\"600\" height=\"400\" viewBox=\"0 0 2400 1600\">\n",
       "<defs>\n",
       "  <clipPath id=\"clip720\">\n",
       "    <rect x=\"0\" y=\"0\" width=\"2400\" height=\"1600\"/>\n",
       "  </clipPath>\n",
       "</defs>\n",
       "<path clip-path=\"url(#clip720)\" d=\"\n",
       "M0 1600 L2400 1600 L2400 0 L0 0  Z\n",
       "  \" fill=\"#ffffff\" fill-rule=\"evenodd\" fill-opacity=\"1\"/>\n",
       "<defs>\n",
       "  <clipPath id=\"clip721\">\n",
       "    <rect x=\"480\" y=\"0\" width=\"1681\" height=\"1600\"/>\n",
       "  </clipPath>\n",
       "</defs>\n",
       "<path clip-path=\"url(#clip720)\" d=\"\n",
       "M184.006 1474.16 L2352.76 1474.16 L2352.76 47.2441 L184.006 47.2441  Z\n",
       "  \" fill=\"#ffffff\" fill-rule=\"evenodd\" fill-opacity=\"1\"/>\n",
       "<defs>\n",
       "  <clipPath id=\"clip722\">\n",
       "    <rect x=\"184\" y=\"47\" width=\"2170\" height=\"1428\"/>\n",
       "  </clipPath>\n",
       "</defs>\n",
       "<polyline clip-path=\"url(#clip722)\" style=\"stroke:#000000; stroke-linecap:butt; stroke-linejoin:round; stroke-width:2; stroke-opacity:0.1; fill:none\" points=\"\n",
       "  773.235,1474.16 773.235,47.2441 \n",
       "  \"/>\n",
       "<polyline clip-path=\"url(#clip722)\" style=\"stroke:#000000; stroke-linecap:butt; stroke-linejoin:round; stroke-width:2; stroke-opacity:0.1; fill:none\" points=\"\n",
       "  1528.42,1474.16 1528.42,47.2441 \n",
       "  \"/>\n",
       "<polyline clip-path=\"url(#clip722)\" style=\"stroke:#000000; stroke-linecap:butt; stroke-linejoin:round; stroke-width:2; stroke-opacity:0.1; fill:none\" points=\"\n",
       "  2283.6,1474.16 2283.6,47.2441 \n",
       "  \"/>\n",
       "<polyline clip-path=\"url(#clip720)\" style=\"stroke:#000000; stroke-linecap:butt; stroke-linejoin:round; stroke-width:4; stroke-opacity:1; fill:none\" points=\"\n",
       "  184.006,1474.16 2352.76,1474.16 \n",
       "  \"/>\n",
       "<polyline clip-path=\"url(#clip720)\" style=\"stroke:#000000; stroke-linecap:butt; stroke-linejoin:round; stroke-width:4; stroke-opacity:1; fill:none\" points=\"\n",
       "  773.235,1474.16 773.235,1455.27 \n",
       "  \"/>\n",
       "<polyline clip-path=\"url(#clip720)\" style=\"stroke:#000000; stroke-linecap:butt; stroke-linejoin:round; stroke-width:4; stroke-opacity:1; fill:none\" points=\"\n",
       "  1528.42,1474.16 1528.42,1455.27 \n",
       "  \"/>\n",
       "<polyline clip-path=\"url(#clip720)\" style=\"stroke:#000000; stroke-linecap:butt; stroke-linejoin:round; stroke-width:4; stroke-opacity:1; fill:none\" points=\"\n",
       "  2283.6,1474.16 2283.6,1455.27 \n",
       "  \"/>\n",
       "<g clip-path=\"url(#clip720)\">\n",
       "<text style=\"fill:#000000; fill-opacity:1; font-family:Arial,Helvetica Neue,Helvetica,sans-serif; font-size:48px; text-anchor:start;\" transform=\"rotate(0, 735.6, 1552.22)\" x=\"735.6\" y=\"1552.22\">10</text>\n",
       "</g>\n",
       "<g clip-path=\"url(#clip720)\">\n",
       "<text style=\"fill:#000000; fill-opacity:1; font-family:Arial,Helvetica Neue,Helvetica,sans-serif; font-size:38px; text-anchor:start;\" transform=\"rotate(0, 789.125, 1524.81)\" x=\"789.125\" y=\"1524.81\">1</text>\n",
       "</g>\n",
       "<g clip-path=\"url(#clip720)\">\n",
       "<text style=\"fill:#000000; fill-opacity:1; font-family:Arial,Helvetica Neue,Helvetica,sans-serif; font-size:48px; text-anchor:start;\" transform=\"rotate(0, 1490.78, 1552.22)\" x=\"1490.78\" y=\"1552.22\">10</text>\n",
       "</g>\n",
       "<g clip-path=\"url(#clip720)\">\n",
       "<text style=\"fill:#000000; fill-opacity:1; font-family:Arial,Helvetica Neue,Helvetica,sans-serif; font-size:38px; text-anchor:start;\" transform=\"rotate(0, 1544.31, 1524.81)\" x=\"1544.31\" y=\"1524.81\">2</text>\n",
       "</g>\n",
       "<g clip-path=\"url(#clip720)\">\n",
       "<text style=\"fill:#000000; fill-opacity:1; font-family:Arial,Helvetica Neue,Helvetica,sans-serif; font-size:48px; text-anchor:start;\" transform=\"rotate(0, 2245.96, 1552.22)\" x=\"2245.96\" y=\"1552.22\">10</text>\n",
       "</g>\n",
       "<g clip-path=\"url(#clip720)\">\n",
       "<text style=\"fill:#000000; fill-opacity:1; font-family:Arial,Helvetica Neue,Helvetica,sans-serif; font-size:38px; text-anchor:start;\" transform=\"rotate(0, 2299.49, 1524.81)\" x=\"2299.49\" y=\"1524.81\">3</text>\n",
       "</g>\n",
       "<polyline clip-path=\"url(#clip722)\" style=\"stroke:#000000; stroke-linecap:butt; stroke-linejoin:round; stroke-width:2; stroke-opacity:0.1; fill:none\" points=\"\n",
       "  184.006,1393.61 2352.76,1393.61 \n",
       "  \"/>\n",
       "<polyline clip-path=\"url(#clip722)\" style=\"stroke:#000000; stroke-linecap:butt; stroke-linejoin:round; stroke-width:2; stroke-opacity:0.1; fill:none\" points=\"\n",
       "  184.006,1175.95 2352.76,1175.95 \n",
       "  \"/>\n",
       "<polyline clip-path=\"url(#clip722)\" style=\"stroke:#000000; stroke-linecap:butt; stroke-linejoin:round; stroke-width:2; stroke-opacity:0.1; fill:none\" points=\"\n",
       "  184.006,958.285 2352.76,958.285 \n",
       "  \"/>\n",
       "<polyline clip-path=\"url(#clip722)\" style=\"stroke:#000000; stroke-linecap:butt; stroke-linejoin:round; stroke-width:2; stroke-opacity:0.1; fill:none\" points=\"\n",
       "  184.006,740.621 2352.76,740.621 \n",
       "  \"/>\n",
       "<polyline clip-path=\"url(#clip722)\" style=\"stroke:#000000; stroke-linecap:butt; stroke-linejoin:round; stroke-width:2; stroke-opacity:0.1; fill:none\" points=\"\n",
       "  184.006,522.957 2352.76,522.957 \n",
       "  \"/>\n",
       "<polyline clip-path=\"url(#clip722)\" style=\"stroke:#000000; stroke-linecap:butt; stroke-linejoin:round; stroke-width:2; stroke-opacity:0.1; fill:none\" points=\"\n",
       "  184.006,305.293 2352.76,305.293 \n",
       "  \"/>\n",
       "<polyline clip-path=\"url(#clip722)\" style=\"stroke:#000000; stroke-linecap:butt; stroke-linejoin:round; stroke-width:2; stroke-opacity:0.1; fill:none\" points=\"\n",
       "  184.006,87.6286 2352.76,87.6286 \n",
       "  \"/>\n",
       "<polyline clip-path=\"url(#clip720)\" style=\"stroke:#000000; stroke-linecap:butt; stroke-linejoin:round; stroke-width:4; stroke-opacity:1; fill:none\" points=\"\n",
       "  184.006,1474.16 184.006,47.2441 \n",
       "  \"/>\n",
       "<polyline clip-path=\"url(#clip720)\" style=\"stroke:#000000; stroke-linecap:butt; stroke-linejoin:round; stroke-width:4; stroke-opacity:1; fill:none\" points=\"\n",
       "  184.006,1393.61 202.903,1393.61 \n",
       "  \"/>\n",
       "<polyline clip-path=\"url(#clip720)\" style=\"stroke:#000000; stroke-linecap:butt; stroke-linejoin:round; stroke-width:4; stroke-opacity:1; fill:none\" points=\"\n",
       "  184.006,1175.95 202.903,1175.95 \n",
       "  \"/>\n",
       "<polyline clip-path=\"url(#clip720)\" style=\"stroke:#000000; stroke-linecap:butt; stroke-linejoin:round; stroke-width:4; stroke-opacity:1; fill:none\" points=\"\n",
       "  184.006,958.285 202.903,958.285 \n",
       "  \"/>\n",
       "<polyline clip-path=\"url(#clip720)\" style=\"stroke:#000000; stroke-linecap:butt; stroke-linejoin:round; stroke-width:4; stroke-opacity:1; fill:none\" points=\"\n",
       "  184.006,740.621 202.903,740.621 \n",
       "  \"/>\n",
       "<polyline clip-path=\"url(#clip720)\" style=\"stroke:#000000; stroke-linecap:butt; stroke-linejoin:round; stroke-width:4; stroke-opacity:1; fill:none\" points=\"\n",
       "  184.006,522.957 202.903,522.957 \n",
       "  \"/>\n",
       "<polyline clip-path=\"url(#clip720)\" style=\"stroke:#000000; stroke-linecap:butt; stroke-linejoin:round; stroke-width:4; stroke-opacity:1; fill:none\" points=\"\n",
       "  184.006,305.293 202.903,305.293 \n",
       "  \"/>\n",
       "<polyline clip-path=\"url(#clip720)\" style=\"stroke:#000000; stroke-linecap:butt; stroke-linejoin:round; stroke-width:4; stroke-opacity:1; fill:none\" points=\"\n",
       "  184.006,87.6286 202.903,87.6286 \n",
       "  \"/>\n",
       "<g clip-path=\"url(#clip720)\">\n",
       "<text style=\"fill:#000000; fill-opacity:1; font-family:Arial,Helvetica Neue,Helvetica,sans-serif; font-size:48px; text-anchor:start;\" transform=\"rotate(0, 50.9921, 1417.34)\" x=\"50.9921\" y=\"1417.34\">10</text>\n",
       "</g>\n",
       "<g clip-path=\"url(#clip720)\">\n",
       "<text style=\"fill:#000000; fill-opacity:1; font-family:Arial,Helvetica Neue,Helvetica,sans-serif; font-size:38px; text-anchor:start;\" transform=\"rotate(0, 104.517, 1389.93)\" x=\"104.517\" y=\"1389.93\">−6</text>\n",
       "</g>\n",
       "<g clip-path=\"url(#clip720)\">\n",
       "<text style=\"fill:#000000; fill-opacity:1; font-family:Arial,Helvetica Neue,Helvetica,sans-serif; font-size:48px; text-anchor:start;\" transform=\"rotate(0, 50.9921, 1199.68)\" x=\"50.9921\" y=\"1199.68\">10</text>\n",
       "</g>\n",
       "<g clip-path=\"url(#clip720)\">\n",
       "<text style=\"fill:#000000; fill-opacity:1; font-family:Arial,Helvetica Neue,Helvetica,sans-serif; font-size:38px; text-anchor:start;\" transform=\"rotate(0, 104.517, 1172.27)\" x=\"104.517\" y=\"1172.27\">−5</text>\n",
       "</g>\n",
       "<g clip-path=\"url(#clip720)\">\n",
       "<text style=\"fill:#000000; fill-opacity:1; font-family:Arial,Helvetica Neue,Helvetica,sans-serif; font-size:48px; text-anchor:start;\" transform=\"rotate(0, 50.9921, 982.013)\" x=\"50.9921\" y=\"982.013\">10</text>\n",
       "</g>\n",
       "<g clip-path=\"url(#clip720)\">\n",
       "<text style=\"fill:#000000; fill-opacity:1; font-family:Arial,Helvetica Neue,Helvetica,sans-serif; font-size:38px; text-anchor:start;\" transform=\"rotate(0, 104.517, 954.602)\" x=\"104.517\" y=\"954.602\">−4</text>\n",
       "</g>\n",
       "<g clip-path=\"url(#clip720)\">\n",
       "<text style=\"fill:#000000; fill-opacity:1; font-family:Arial,Helvetica Neue,Helvetica,sans-serif; font-size:48px; text-anchor:start;\" transform=\"rotate(0, 50.9921, 764.348)\" x=\"50.9921\" y=\"764.348\">10</text>\n",
       "</g>\n",
       "<g clip-path=\"url(#clip720)\">\n",
       "<text style=\"fill:#000000; fill-opacity:1; font-family:Arial,Helvetica Neue,Helvetica,sans-serif; font-size:38px; text-anchor:start;\" transform=\"rotate(0, 104.517, 736.938)\" x=\"104.517\" y=\"736.938\">−3</text>\n",
       "</g>\n",
       "<g clip-path=\"url(#clip720)\">\n",
       "<text style=\"fill:#000000; fill-opacity:1; font-family:Arial,Helvetica Neue,Helvetica,sans-serif; font-size:48px; text-anchor:start;\" transform=\"rotate(0, 50.9921, 546.684)\" x=\"50.9921\" y=\"546.684\">10</text>\n",
       "</g>\n",
       "<g clip-path=\"url(#clip720)\">\n",
       "<text style=\"fill:#000000; fill-opacity:1; font-family:Arial,Helvetica Neue,Helvetica,sans-serif; font-size:38px; text-anchor:start;\" transform=\"rotate(0, 104.517, 519.274)\" x=\"104.517\" y=\"519.274\">−2</text>\n",
       "</g>\n",
       "<g clip-path=\"url(#clip720)\">\n",
       "<text style=\"fill:#000000; fill-opacity:1; font-family:Arial,Helvetica Neue,Helvetica,sans-serif; font-size:48px; text-anchor:start;\" transform=\"rotate(0, 50.9921, 329.02)\" x=\"50.9921\" y=\"329.02\">10</text>\n",
       "</g>\n",
       "<g clip-path=\"url(#clip720)\">\n",
       "<text style=\"fill:#000000; fill-opacity:1; font-family:Arial,Helvetica Neue,Helvetica,sans-serif; font-size:38px; text-anchor:start;\" transform=\"rotate(0, 104.517, 301.61)\" x=\"104.517\" y=\"301.61\">−1</text>\n",
       "</g>\n",
       "<g clip-path=\"url(#clip720)\">\n",
       "<text style=\"fill:#000000; fill-opacity:1; font-family:Arial,Helvetica Neue,Helvetica,sans-serif; font-size:48px; text-anchor:start;\" transform=\"rotate(0, 72.7365, 111.356)\" x=\"72.7365\" y=\"111.356\">10</text>\n",
       "</g>\n",
       "<g clip-path=\"url(#clip720)\">\n",
       "<text style=\"fill:#000000; fill-opacity:1; font-family:Arial,Helvetica Neue,Helvetica,sans-serif; font-size:38px; text-anchor:start;\" transform=\"rotate(0, 126.261, 83.9458)\" x=\"126.261\" y=\"83.9458\">0</text>\n",
       "</g>\n",
       "<polyline clip-path=\"url(#clip722)\" style=\"stroke:#009af9; stroke-linecap:butt; stroke-linejoin:round; stroke-width:8; stroke-opacity:1; fill:none\" points=\"\n",
       "  245.385,275.304 472.718,397.653 700.05,523.055 927.382,650.908 1154.71,780.258 1382.05,910.43 1609.38,1041.03 1836.71,1171.86 2064.04,1302.79 2291.38,1433.78 \n",
       "  \n",
       "  \"/>\n",
       "<circle clip-path=\"url(#clip722)\" cx=\"245.385\" cy=\"275.304\" r=\"14.4\" fill=\"#009af9\" fill-rule=\"evenodd\" fill-opacity=\"1\" stroke=\"#000000\" stroke-opacity=\"1\" stroke-width=\"3.2\"/>\n",
       "<circle clip-path=\"url(#clip722)\" cx=\"472.718\" cy=\"397.653\" r=\"14.4\" fill=\"#009af9\" fill-rule=\"evenodd\" fill-opacity=\"1\" stroke=\"#000000\" stroke-opacity=\"1\" stroke-width=\"3.2\"/>\n",
       "<circle clip-path=\"url(#clip722)\" cx=\"700.05\" cy=\"523.055\" r=\"14.4\" fill=\"#009af9\" fill-rule=\"evenodd\" fill-opacity=\"1\" stroke=\"#000000\" stroke-opacity=\"1\" stroke-width=\"3.2\"/>\n",
       "<circle clip-path=\"url(#clip722)\" cx=\"927.382\" cy=\"650.908\" r=\"14.4\" fill=\"#009af9\" fill-rule=\"evenodd\" fill-opacity=\"1\" stroke=\"#000000\" stroke-opacity=\"1\" stroke-width=\"3.2\"/>\n",
       "<circle clip-path=\"url(#clip722)\" cx=\"1154.71\" cy=\"780.258\" r=\"14.4\" fill=\"#009af9\" fill-rule=\"evenodd\" fill-opacity=\"1\" stroke=\"#000000\" stroke-opacity=\"1\" stroke-width=\"3.2\"/>\n",
       "<circle clip-path=\"url(#clip722)\" cx=\"1382.05\" cy=\"910.43\" r=\"14.4\" fill=\"#009af9\" fill-rule=\"evenodd\" fill-opacity=\"1\" stroke=\"#000000\" stroke-opacity=\"1\" stroke-width=\"3.2\"/>\n",
       "<circle clip-path=\"url(#clip722)\" cx=\"1609.38\" cy=\"1041.03\" r=\"14.4\" fill=\"#009af9\" fill-rule=\"evenodd\" fill-opacity=\"1\" stroke=\"#000000\" stroke-opacity=\"1\" stroke-width=\"3.2\"/>\n",
       "<circle clip-path=\"url(#clip722)\" cx=\"1836.71\" cy=\"1171.86\" r=\"14.4\" fill=\"#009af9\" fill-rule=\"evenodd\" fill-opacity=\"1\" stroke=\"#000000\" stroke-opacity=\"1\" stroke-width=\"3.2\"/>\n",
       "<circle clip-path=\"url(#clip722)\" cx=\"2064.04\" cy=\"1302.79\" r=\"14.4\" fill=\"#009af9\" fill-rule=\"evenodd\" fill-opacity=\"1\" stroke=\"#000000\" stroke-opacity=\"1\" stroke-width=\"3.2\"/>\n",
       "<circle clip-path=\"url(#clip722)\" cx=\"2291.38\" cy=\"1433.78\" r=\"14.4\" fill=\"#009af9\" fill-rule=\"evenodd\" fill-opacity=\"1\" stroke=\"#000000\" stroke-opacity=\"1\" stroke-width=\"3.2\"/>\n",
       "<polyline clip-path=\"url(#clip722)\" style=\"stroke:#000000; stroke-linecap:butt; stroke-linejoin:round; stroke-width:8; stroke-opacity:1; fill:none\" stroke-dasharray=\"32, 20\" points=\"\n",
       "  245.385,87.6286 472.718,218.675 700.05,349.722 927.382,480.769 1154.71,611.816 1382.05,742.863 1609.38,873.91 1836.71,1004.96 2064.04,1136 2291.38,1267.05 \n",
       "  \n",
       "  \"/>\n",
       "</svg>\n"
      ]
     },
     "execution_count": 7,
     "metadata": {
      "filenames": {
       "image/svg+xml": "/Users/driscoll/Dropbox/class/817/notes/_build/jupyter_execute/finite-diffs/integration_12_0.svg"
      }
     },
     "output_type": "execute_result"
    }
   ],
   "source": [
    "function fdintegrate(g,a,b,n)\n",
    "    h = (b-a)/n\n",
    "    x = [a + i*h for i in 0:n]\n",
    "    A = diffmat1(x)\n",
    "    b = g.(x)\n",
    "\n",
    "    A[1,1:2] = [1,0];  b[1] = 0;\n",
    "    \n",
    "    u = A\\b \n",
    "    return x,u\n",
    "end\n",
    "\n",
    "n = [2^k for k in 1:10]\n",
    "err = []\n",
    "for n in n\n",
    "    x,u = fdintegrate(cos,0,1,n)\n",
    "    û = sin.(x)\n",
    "    push!(err,norm(u-û)/norm(û))\n",
    "end\n",
    "\n",
    "using Plots\n",
    "plot(n,err,m=4,xaxis=:log10,yaxis=:log10)\n",
    "order1 = @. (n/n[1])^(-2)\n",
    "plot!(n,order1,color=:black,l=:dash)"
   ]
  },
  {
   "cell_type": "markdown",
   "id": "f86adb74",
   "metadata": {},
   "source": [
    "The straight-line convergence on log-log scales means **algebraic convergence** of the rate $C n^{-p}$ for a positive **order** $p$. The dashed black line shows $p=2$. How do we explain this convergence order? Stay tuned."
   ]
  }
 ],
 "metadata": {
  "jupytext": {
   "cell_metadata_filter": "-all",
   "formats": "md:myst",
   "text_representation": {
    "extension": ".md",
    "format_name": "myst",
    "format_version": 0.13,
    "jupytext_version": "1.14.1"
   }
  },
  "kernelspec": {
   "display_name": "Julia 1.8.0",
   "language": "julia",
   "name": "julia-1.8"
  },
  "language_info": {
   "file_extension": ".jl",
   "mimetype": "application/julia",
   "name": "julia",
   "version": "1.8.0"
  },
  "source_map": [
   14,
   54,
   72,
   75,
   81,
   84,
   88,
   90,
   94,
   97,
   101,
   103,
   107,
   132
  ]
 },
 "nbformat": 4,
 "nbformat_minor": 5
}