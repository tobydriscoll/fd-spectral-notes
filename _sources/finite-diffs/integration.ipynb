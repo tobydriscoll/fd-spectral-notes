{
 "cells": [
  {
   "cell_type": "markdown",
   "id": "c2596c7c",
   "metadata": {},
   "source": [
    "# Indefinite integration\n",
    "\n",
    "The simplest possible context for our first finite-difference method is the BVP\n",
    "\n",
    "$$\n",
    "u'(x) = g(x), \\quad u(a)=0, \\quad a < x < b. \n",
    "$$\n",
    "\n",
    "The solution of this problem is just an indefinite integral of $g$. Suppose we discretize the domain $[a,b]$ by choosing the nodes\n",
    "\n",
    "$$\n",
    "x_i = a + ih, \\quad h = \\frac{b-a}{n}, \\quad i=0,\\ldots,n,\n",
    "$$\n",
    "\n",
    "for a positive integer $n$. If we want to write a discrete analog of the ODE at each node, then at the first node $x_0$ we really only have one of the three options above available, the forward difference. Likewise, at $x_n$ we can only use the backward difference. At the interior nodes, suppose that we use a centered difference. This gives us the discrete equations\n",
    "\n",
    "$$\n",
    "\\frac{u_1-u_0}{h} = g(x_0), \\, \\frac{u_2-u_0}{2h} = g(x_1), \\, \\cdots \\, \\frac{u_n-u_{n-2}}{2h} = g(x_{n-1}),  \\, \\frac{u_n-u_{n-1}}{h} = g(x_{n}). \n",
    "$$\n",
    "\n",
    "It's much saner to express these using linear algebra:\n",
    "\n",
    "$$\n",
    "\\frac{1}{2h}\n",
    "\\begin{bmatrix} \n",
    "-2 & 2 & & & \\\\ \n",
    "-1 & 0 & 1 & & \\\\ \n",
    "& \\ddots & \\ddots & \\ddots  & \\\\ \n",
    "& & -1 & 0 & 1 \\\\ \n",
    "& & & -2 & 2 \n",
    "\\end{bmatrix} \n",
    "\\begin{bmatrix} u_0 \\\\ u_1 \\\\ \\vdots \\\\ u_{n-1} \\\\ u_n   \\end{bmatrix}\n",
    "= \n",
    "\\begin{bmatrix} g(x_0) \\\\ g(x_1) \\\\ \\vdots \\\\ g(x_{n-1}) \\\\ g(x_n)   \\end{bmatrix}. \n",
    "$$\n",
    "\n",
    "We will call the matrix in this system a **differentiation matrix**. It maps a vector of function values to a vector of (approximate) values of its derivative."
   ]
  },
  {
   "cell_type": "code",
   "execution_count": 1,
   "id": "4d5cf891",
   "metadata": {},
   "outputs": [
    {
     "data": {
      "text/plain": [
       "9×9 Matrix{Float64}:\n",
       " -8.0   8.0   0.0   0.0   0.0   0.0   0.0   0.0  0.0\n",
       " -4.0   0.0   4.0   0.0   0.0   0.0   0.0   0.0  0.0\n",
       "  0.0  -8.0   0.0   4.0   0.0   0.0   0.0   0.0  0.0\n",
       "  0.0   0.0  -8.0   0.0   4.0   0.0   0.0   0.0  0.0\n",
       "  0.0   0.0   0.0  -8.0   0.0   4.0   0.0   0.0  0.0\n",
       "  0.0   0.0   0.0   0.0  -8.0   0.0   4.0   0.0  0.0\n",
       "  0.0   0.0   0.0   0.0   0.0  -8.0   0.0   4.0  0.0\n",
       "  0.0   0.0   0.0   0.0   0.0   0.0  -8.0   0.0  4.0\n",
       "  0.0   0.0   0.0   0.0   0.0   0.0   0.0  -8.0  8.0"
      ]
     },
     "execution_count": 1,
     "metadata": {},
     "output_type": "execute_result"
    }
   ],
   "source": [
    "using LinearAlgebra\n",
    "function diffmat1(x)\n",
    "    # assumes evenly spaced nodes\n",
    "    h = x[2]-x[1]\n",
    "    m = length(x)\n",
    "    Dx = 1/2h*diagm(-1=>[-1;-2*ones(m-2)],0=>[-2;zeros(m-2);2],1=>[2;ones(m-2)])\n",
    "end\n",
    "\n",
    "a,b = 0,1\n",
    "g = x->cos(x)\n",
    "\n",
    "n = 8\n",
    "h = (b-a)/n\n",
    "x = [a + i*h for i in 0:n]\n",
    "A = diffmat1(x)"
   ]
  },
  {
   "cell_type": "code",
   "execution_count": 2,
   "id": "3fabd097",
   "metadata": {},
   "outputs": [
    {
     "ename": "LoadError",
     "evalue": "SingularException(9)",
     "output_type": "error",
     "traceback": [
      "SingularException(9)",
      "",
      "Stacktrace:",
      " [1] checknonsingular",
      "   @ /Applications/Julia-1.8.app/Contents/Resources/julia/share/julia/stdlib/v1.8/LinearAlgebra/src/factorization.jl:19 [inlined]",
      " [2] checknonsingular",
      "   @ /Applications/Julia-1.8.app/Contents/Resources/julia/share/julia/stdlib/v1.8/LinearAlgebra/src/factorization.jl:21 [inlined]",
      " [3] #lu!#172",
      "   @ /Applications/Julia-1.8.app/Contents/Resources/julia/share/julia/stdlib/v1.8/LinearAlgebra/src/lu.jl:82 [inlined]",
      " [4] #lu#179",
      "   @ /Applications/Julia-1.8.app/Contents/Resources/julia/share/julia/stdlib/v1.8/LinearAlgebra/src/lu.jl:279 [inlined]",
      " [5] lu (repeats 2 times)",
      "   @ /Applications/Julia-1.8.app/Contents/Resources/julia/share/julia/stdlib/v1.8/LinearAlgebra/src/lu.jl:278 [inlined]",
      " [6] \\(A::Matrix{Float64}, B::Vector{Float64})",
      "   @ LinearAlgebra /Applications/Julia-1.8.app/Contents/Resources/julia/share/julia/stdlib/v1.8/LinearAlgebra/src/generic.jl:1110",
      " [7] top-level scope",
      "   @ In[2]:2",
      " [8] eval",
      "   @ ./boot.jl:368 [inlined]",
      " [9] include_string(mapexpr::typeof(REPL.softscope), mod::Module, code::String, filename::String)",
      "   @ Base ./loading.jl:1428"
     ]
    }
   ],
   "source": [
    "b = g.(x)\n",
    "u = A\\b"
   ]
  },
  {
   "cell_type": "markdown",
   "id": "7713d657",
   "metadata": {},
   "source": [
    "Wait, what??\n",
    "\n",
    "Sometimes when the discrete analog of the problem fails spectacularly, it's actually reflecting an important property of the original problem. Here, we've forgotten to impose the boundary/initial condition $u(a)=0$, and that makes the problem ill-posed. In fact, we know that the integration problem has a 1-dimensional nonuniqueness, and so does the matrix problem here:"
   ]
  },
  {
   "cell_type": "code",
   "execution_count": 3,
   "id": "fb07832f",
   "metadata": {},
   "outputs": [
    {
     "data": {
      "text/plain": [
       "9-element Vector{Float64}:\n",
       " 13.45941957293787\n",
       " 12.625604205405399\n",
       " 11.136682555872522\n",
       " 10.450537021010256\n",
       "  8.837104501385673\n",
       "  7.6459024473422526\n",
       "  5.8264386573718125\n",
       "  4.867966022835773\n",
       "  7.279248367202743e-16"
      ]
     },
     "execution_count": 3,
     "metadata": {},
     "output_type": "execute_result"
    }
   ],
   "source": [
    "U,σ,V = svd(A)\n",
    "σ"
   ]
  },
  {
   "cell_type": "markdown",
   "id": "2307be09",
   "metadata": {},
   "source": [
    "The null space even consists of a constant solution:"
   ]
  },
  {
   "cell_type": "code",
   "execution_count": 4,
   "id": "3acd422f",
   "metadata": {},
   "outputs": [
    {
     "data": {
      "text/plain": [
       "9-element Vector{Float64}:\n",
       " 0.07647191129018731\n",
       " 0.07647191129018736\n",
       " 0.07647191129018707\n",
       " 0.15294382258037456\n",
       " 0.15294382258037462\n",
       " 0.30588764516074896\n",
       " 0.3058876451607489\n",
       " 0.6117752903214978\n",
       " 0.6117752903214979"
      ]
     },
     "execution_count": 4,
     "metadata": {},
     "output_type": "execute_result"
    }
   ],
   "source": [
    "V[:,end]"
   ]
  },
  {
   "cell_type": "markdown",
   "id": "f3f0f534",
   "metadata": {},
   "source": [
    "Let's impose the boundary condition now. In order to keep this a square linear system, we need to replace a row, not add one; the natural choice is the first row."
   ]
  },
  {
   "cell_type": "code",
   "execution_count": 5,
   "id": "fcc34d5d",
   "metadata": {},
   "outputs": [
    {
     "data": {
      "text/plain": [
       "9-element Vector{Float64}:\n",
       " -0.0\n",
       "  0.22780875281957613\n",
       "  0.24804941680733225\n",
       "  0.6978456110668134\n",
       "  0.7287257390927431\n",
       "  1.61508686260622\n",
       "  1.6601922580617907\n",
       "  3.4130959424308953\n",
       "  3.4806337306644126"
      ]
     },
     "execution_count": 5,
     "metadata": {},
     "output_type": "execute_result"
    }
   ],
   "source": [
    "A[1,1:2] = [1,0];  b[1] = 0;\n",
    "u = A\\b "
   ]
  },
  {
   "cell_type": "markdown",
   "id": "c9cf72cc",
   "metadata": {},
   "source": [
    "Compare to the exact solution, $u(x)=\\sin(x)$:"
   ]
  },
  {
   "cell_type": "code",
   "execution_count": 6,
   "id": "a3bc1d00",
   "metadata": {},
   "outputs": [
    {
     "data": {
      "text/plain": [
       "9×2 Matrix{Float64}:\n",
       " -0.0       0.0\n",
       "  0.227809  0.124675\n",
       "  0.248049  0.247404\n",
       "  0.697846  0.366273\n",
       "  0.728726  0.479426\n",
       "  1.61509   0.585097\n",
       "  1.66019   0.681639\n",
       "  3.4131    0.767544\n",
       "  3.48063   0.841471"
      ]
     },
     "execution_count": 6,
     "metadata": {},
     "output_type": "execute_result"
    }
   ],
   "source": [
    "[u sin.(x)]"
   ]
  },
  {
   "cell_type": "markdown",
   "id": "c1fc9cc9",
   "metadata": {},
   "source": [
    "While that's plausible, it's not conclusively correct. Let's do a convergence study."
   ]
  },
  {
   "cell_type": "code",
   "execution_count": 7,
   "id": "c7198602",
   "metadata": {},
   "outputs": [
    {
     "ename": "LoadError",
     "evalue": "MethodError: no method matching diffmat1(::typeof(cos), ::Int64, ::Int64, ::Int64)\n\u001b[0mClosest candidates are:\n\u001b[0m  diffmat1(::Any) at In[1]:2",
     "output_type": "error",
     "traceback": [
      "MethodError: no method matching diffmat1(::typeof(cos), ::Int64, ::Int64, ::Int64)\n\u001b[0mClosest candidates are:\n\u001b[0m  diffmat1(::Any) at In[1]:2",
      "",
      "Stacktrace:",
      " [1] fdintegrate(g::Function, a::Int64, b::Int64, n::Int64)",
      "   @ Main ./In[7]:4",
      " [2] top-level scope",
      "   @ ./In[7]:16",
      " [3] eval",
      "   @ ./boot.jl:368 [inlined]",
      " [4] include_string(mapexpr::typeof(REPL.softscope), mod::Module, code::String, filename::String)",
      "   @ Base ./loading.jl:1428"
     ]
    }
   ],
   "source": [
    "function fdintegrate(g,a,b,n)\n",
    "    h = (b-a)/n\n",
    "    x = [a + i*h for i in 0:n]\n",
    "    A = diffmat1(g,a,b,n)\n",
    "    b = g.(x)\n",
    "\n",
    "    A[1,1:2] = [1,0];  b[1] = 0;\n",
    "    \n",
    "    u = A\\b \n",
    "    return x,u\n",
    "end\n",
    "\n",
    "n = [2^k for k in 1:10]\n",
    "err = []\n",
    "for n in n\n",
    "    x,u = fdintegrate(cos,0,1,n)\n",
    "    û = sin.(x)\n",
    "    push!(err,norm(u-û)/norm(û))\n",
    "end\n",
    "\n",
    "using Plots\n",
    "plot(n,err,m=4,xaxis=:log10,yaxis=:log10)\n",
    "order1 = @. (n/n[1])^(-2)\n",
    "plot!(n,order1,color=:black,l=:dash)"
   ]
  },
  {
   "cell_type": "markdown",
   "id": "b2fb549f",
   "metadata": {},
   "source": [
    "The straight-line convergence on log-log scales means **algebraic convergence** of the rate $C n^{-p}$ for a positive **order** $p$. The dashed black line shows $p=2$. How do we explain this convergence order? Stay tuned."
   ]
  }
 ],
 "metadata": {
  "jupytext": {
   "cell_metadata_filter": "-all",
   "formats": "md:myst",
   "text_representation": {
    "extension": ".md",
    "format_name": "myst",
    "format_version": 0.13,
    "jupytext_version": "1.14.1"
   }
  },
  "kernelspec": {
   "display_name": "Julia 1.8.0-rc3",
   "language": "julia",
   "name": "julia-1.8"
  },
  "language_info": {
   "file_extension": ".jl",
   "mimetype": "application/julia",
   "name": "julia",
   "version": "1.8.0"
  },
  "source_map": [
   14,
   54,
   72,
   75,
   81,
   84,
   88,
   90,
   94,
   97,
   101,
   103,
   107,
   132
  ]
 },
 "nbformat": 4,
 "nbformat_minor": 5
}