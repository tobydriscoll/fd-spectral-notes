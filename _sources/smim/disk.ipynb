{
 "cells": [
  {
   "cell_type": "markdown",
   "id": "e270877a",
   "metadata": {},
   "source": [
    "# Polar coordinates"
   ]
  },
  {
   "cell_type": "code",
   "execution_count": 1,
   "id": "e6388869",
   "metadata": {},
   "outputs": [],
   "source": [
    "include(\"smij-functions.jl\");"
   ]
  },
  {
   "cell_type": "markdown",
   "id": "c16bb3c0",
   "metadata": {},
   "source": [
    "We already discussed how to discretize polar coordinates using finite differences. Trefethen chooses to use $r>0$ and $\\theta\\in[0,2π]$, while we used $-1<r<1$ and $\\theta\\in[0,\\pi]$, and we have $r$ varying down rows, while he puts $r$ varying along columns. The resulting details are different, but similar."
   ]
  },
  {
   "cell_type": "code",
   "execution_count": 2,
   "id": "1d902c6f",
   "metadata": {},
   "outputs": [
    {
     "data": {
      "text/plain": [
       "polarlap (generic function with 1 method)"
      ]
     },
     "execution_count": 2,
     "metadata": {},
     "output_type": "execute_result"
    }
   ],
   "source": [
    "using SparseArrays\n",
    "\n",
    "function polarlap(nr,nθ)\n",
    "    @assert isodd(nr)\n",
    "    ⊗ = kron\n",
    "    Dr, r = cheb(nr)\n",
    "    Drr = Dr^2\n",
    "    S = spdiagm(1 ./r)\n",
    "    θ,Dθ,Dθθ = trig(2nθ)\n",
    "    Q₁₁,Q₁₂ = Dθθ[1:nθ,1:nθ], Dθθ[nθ+1:2nθ,1:nθ]\n",
    "    return r, θ[1:nθ], I(nθ)⊗(Drr + S*Dr) + Q₁₁⊗S.^2 + Q₁₂⊗reverse(S.^2,dims=2)\n",
    "end"
   ]
  },
  {
   "cell_type": "markdown",
   "id": "f9c89b57",
   "metadata": {},
   "source": [
    "We can use the polar Laplacian to find eigenvalues and eigenfunctions on the disk.\n",
    "\n",
    "### p28: eigenmodes of Laplacian on the disk (compare p22)"
   ]
  },
  {
   "cell_type": "code",
   "execution_count": 3,
   "id": "fa634850",
   "metadata": {},
   "outputs": [],
   "source": [
    "N, M = 25, 20\n",
    "r, θ, L = polarlap(N,M)\n",
    "\n",
    "bdy = falses(N+1, M)\n",
    "bdy[[1, N+1], :] .= true\n",
    "L[vec(bdy),:] .= I((N+1) * M)[vec(bdy),:]\n",
    "P = diagm(vec(.!bdy))\n",
    "\n",
    "# Compute four eigenmodes:\n",
    "index = [1, 3, 6, 10]\n",
    "λ, V = eigen(-L, P, sortby=abs)\n",
    "V = V[:, isfinite.(λ)]\n",
    "λ = sqrt.(filter(isfinite,λ) / λ[1]);"
   ]
  },
  {
   "cell_type": "code",
   "execution_count": 4,
   "id": "450345db",
   "metadata": {},
   "outputs": [
    {
     "ename": "LoadError",
     "evalue": "ArgumentError: Package GLMakie [e9467ef8-e4e7-5192-8a1a-b1aee30e663a] is required but does not seem to be installed:\n - Run `Pkg.instantiate()` to install all recorded dependencies.\n",
     "output_type": "error",
     "traceback": [
      "ArgumentError: Package GLMakie [e9467ef8-e4e7-5192-8a1a-b1aee30e663a] is required but does not seem to be installed:\n - Run `Pkg.instantiate()` to install all recorded dependencies.\n",
      "",
      "Stacktrace:",
      " [1] _require(pkg::Base.PkgId)",
      "   @ Base ./loading.jl:1306",
      " [2] _require_prelocked(uuidkey::Base.PkgId)",
      "   @ Base ./loading.jl:1200",
      " [3] macro expansion",
      "   @ ./loading.jl:1180 [inlined]",
      " [4] macro expansion",
      "   @ ./lock.jl:223 [inlined]",
      " [5] require(into::Module, mod::Symbol)",
      "   @ Base ./loading.jl:1144",
      " [6] eval",
      "   @ ./boot.jl:368 [inlined]",
      " [7] include_string(mapexpr::typeof(REPL.softscope), mod::Module, code::String, filename::String)",
      "   @ Base ./loading.jl:1428"
     ]
    }
   ],
   "source": [
    "# Plot eigenmodes:\n",
    "using GLMakie, PyFormattedStrings\n",
    "\n",
    "X = [r*cos(θ) for r in r, θ in θ]\n",
    "Y = [r*sin(θ) for r in r, θ in θ]\n",
    "fig = Figure()\n",
    "ax = vec([ Axis3(fig[j,i]) for i in 1:2, j in 1:2 ])\n",
    "extend(Z) = [Z reverse(Z[:, 1])]\n",
    "for (ax,i) in zip(ax,index)\n",
    "    U = reshape(V[:, i], N+1, M)\n",
    "    U = normalize(U, Inf)\n",
    "    surface!(ax, extend(X), extend(Y), extend(U))\n",
    "    ax.title = f\"Mode {i}:  λ = {λ[i]:.11f}\"\n",
    "    limits!(ax,-1.05, 1.05,-1.05, 1.05, -1.05, 1.05)\n",
    "end\n",
    "hidespines!.(ax)\n",
    "hidedecorations!.(ax)\n",
    "fig"
   ]
  },
  {
   "cell_type": "code",
   "execution_count": null,
   "id": "aa5f538b",
   "metadata": {},
   "outputs": [],
   "source": []
  },
  {
   "cell_type": "markdown",
   "id": "9b1c761c",
   "metadata": {},
   "source": [
    "Or we can solve boundary-value problems. To avoid a crude-looking plot that belies the true underlying accuracy, we can interpolate from the solution grid to a finer one. This entails trig interpolation along the rows, where the row at $r$ is continued by the row at $-r$ in order to create a periodic function of $\\theta$, along with ordinary Chebyshev interpolation along the columns. \n",
    "\n",
    "### p29: solve Poisson equation on the unit disk\n",
    "\n",
    "The function $f$ had to be changed from Trefethen. As written there, it is not equivalent on our discretization choice of $[-1,1]\\times [0,\\pi]$."
   ]
  },
  {
   "cell_type": "code",
   "execution_count": 5,
   "id": "03abd5c6",
   "metadata": {},
   "outputs": [],
   "source": [
    "N, M = 35, 30\n",
    "r, θ, L = polarlap(N, M)\n",
    "f = [ -r^2 * sin(2θ)^4 - 2sin(4θ) * cos(θ)^2 for r in r, θ in θ ]\n",
    "\n",
    "\n",
    "bdy = falses(N+1, M)\n",
    "bdy[[1, N+1], :] .= true\n",
    "L[vec(bdy),:] .= I((N+1) * M)[vec(bdy),:]\n",
    "f[bdy] .= 0\n",
    "\n",
    "# Right-hand side and solution for u:\n",
    "u = L \\ vec(f);"
   ]
  },
  {
   "cell_type": "code",
   "execution_count": 6,
   "id": "a7b9b7c9",
   "metadata": {},
   "outputs": [
    {
     "ename": "LoadError",
     "evalue": "UndefVarError: Figure not defined",
     "output_type": "error",
     "traceback": [
      "UndefVarError: Figure not defined",
      "",
      "Stacktrace:",
      " [1] top-level scope",
      "   @ In[6]:18",
      " [2] eval",
      "   @ ./boot.jl:368 [inlined]",
      " [3] include_string(mapexpr::typeof(REPL.softscope), mod::Module, code::String, filename::String)",
      "   @ Base ./loading.jl:1428"
     ]
    }
   ],
   "source": [
    "# Reshape results onto 2D grid and plot them:\n",
    "U = reshape(u, N+1, M)\n",
    "NN, MM = 51, 80\n",
    "rr = range(0, 1, NN)\n",
    "θθ = range(0, 2π, MM)\n",
    "VV = zeros(N+1, MM)\n",
    "for i in axes(U, 1)\n",
    "    v = [U[i,:]; U[N+2-i,:]]\n",
    "    VV[i,:] .= triginterp(v).(θθ)\n",
    "end\n",
    "UU = zeros(NN, MM)\n",
    "for j in axes(VV,2)\n",
    "    UU[:,j] .= polyinterp(r,VV[:,j]).(rr)\n",
    "end\n",
    "\n",
    "XX = [ r*cos(θ) for r in rr, θ in θθ ]\n",
    "YY = [ r*sin(θ) for r in rr, θ in θθ ]\n",
    "fig = Figure()\n",
    "ax = Axis3(fig[1, 1], elevation=1.0, \n",
    "    xlabel=\"x\", ylabel=\"y\", zlabel=\"z\")\n",
    "surf = surface!(XX, YY, UU, colormap=:bluesreds, colorrange=(-0.04,0.04))\n",
    "Colorbar(fig[1,2],surf)\n",
    "fig"
   ]
  }
 ],
 "metadata": {
  "jupytext": {
   "cell_metadata_filter": "-all",
   "formats": "md:myst",
   "text_representation": {
    "extension": ".md",
    "format_name": "myst",
    "format_version": 0.13,
    "jupytext_version": "1.14.1"
   }
  },
  "kernelspec": {
   "display_name": "Julia 1.8.2",
   "language": "julia",
   "name": "julia-1.8"
  },
  "language_info": {
   "file_extension": ".jl",
   "mimetype": "application/julia",
   "name": "julia",
   "version": "1.8.2"
  },
  "source_map": [
   14,
   18,
   20,
   24,
   37,
   43,
   59,
   80,
   82,
   90,
   105
  ]
 },
 "nbformat": 4,
 "nbformat_minor": 5
}