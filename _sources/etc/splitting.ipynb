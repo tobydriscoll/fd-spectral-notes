{
 "cells": [
  {
   "cell_type": "markdown",
   "id": "26de5bfb",
   "metadata": {},
   "source": [
    "# Operator splitting"
   ]
  },
  {
   "cell_type": "code",
   "execution_count": 1,
   "id": "eaa4b2c7",
   "metadata": {},
   "outputs": [],
   "source": [
    "include(\"../smim/smij-functions.jl\");"
   ]
  },
  {
   "cell_type": "markdown",
   "id": "4fbe5c8e",
   "metadata": {},
   "source": [
    "A common trick for solving a difficult time-dependent PDE is to split the equation according to\n",
    "\n",
    "$$\n",
    "\\partial_t u = A(u) + B(u), \n",
    "$$\n",
    "\n",
    "where $A$ and $B$ might both include spatial derivatives. Often the motivation is that one of the partial operators is linear or easy to handle for some other reason. \n",
    "\n",
    "We demonstrate these methods on the *Kuramoto--Sivashinsky equation*, \n",
    "\n",
    "$$\n",
    "\\partial_t u = - \\partial_x(u^2) - \\partial_x^2 u - \\partial_x^4 u. \n",
    "$$\n",
    "\n",
    "With periodic conditions, the last term in the PDE has eigenvalues that are $O(N^4)$, making the problem quite stiff. However, we can solve in Fourier space via the splitting\n",
    "\n",
    "$$\n",
    "\\partial_t \\hat{u} = A\\hat{u} = (\\xi^2 - \\xi^4)\\hat{u},\n",
    "$$\n",
    "\n",
    "which is linear and diagonal, and\n",
    "\n",
    "$$\n",
    "\\partial_t \\hat{u} = B\\hat{u} = -i\\xi \\mathcal{F}[ (\\mathcal{F}^{-1}[\\hat{u}])^2 ],\n",
    "$$\n",
    "\n",
    "which is nonlinear but also nonstiff.\n",
    "\n",
    "## Integrating factor\n",
    "\n",
    "Recall that in this case, the splitting is\n",
    "\n",
    "$$\n",
    "\\partial_t u = Lu + G(u),\n",
    "$$\n",
    "\n",
    "where $L$ is linear and responsible for the stiff terms. We multiply this through by $e^{-tL}$ and define the new variable\n",
    "\n",
    "$$\n",
    "z = e^{-tL} u,\n",
    "$$\n",
    "\n",
    "so that\n",
    "\n",
    "$$\n",
    "\\partial_t z = e^{-tL} G\\bigl( e^{tL}z \\bigr). \n",
    "$$\n",
    "\n",
    "This is easy to apply in Fourier space, where $L$ is typically diagonal. Here again is the IF method, applied to the KS equation at second order in time."
   ]
  },
  {
   "cell_type": "code",
   "execution_count": 2,
   "id": "a694d0b4",
   "metadata": {},
   "outputs": [
    {
     "data": {
      "text/plain": [
       "#61 (generic function with 1 method)"
      ]
     },
     "execution_count": 2,
     "metadata": {},
     "output_type": "execute_result"
    }
   ],
   "source": [
    "N = 140\n",
    "x, _, _ = trig(N)\n",
    "x = x .- π\n",
    "x *= 20/π\n",
    "\n",
    "m = 1500\n",
    "Tfin = 100\n",
    "τ = Tfin/m\n",
    "\n",
    "u₀ = @. exp(-x^2)\n",
    "\n",
    "F = plan_rfft(u₀)\n",
    "F⁻¹ = plan_irfft(F*u₀,N)\n",
    "\n",
    "ξ = (0:N/2) * π/20\n",
    "iξ = 1im*[ξ[1:div(N,2)];0]\n",
    "L = @. ξ^2 - ξ^4\n",
    "G = û -> -iξ .* (F * (F⁻¹*û).^2 )"
   ]
  },
  {
   "cell_type": "code",
   "execution_count": 3,
   "id": "758fa464",
   "metadata": {},
   "outputs": [],
   "source": [
    "U = [u₀ zeros(N,m)]\n",
    "û = F*u₀\n",
    "E = exp.(τ*L / 2)       # half of the integrating factor   \n",
    "for n = 1:m\n",
    "    a = τ*G(û)\n",
    "    b = τ*G(E .* (û + a/2))\n",
    "    û = @. E*(E*û + b)\n",
    "    \n",
    "    U[:,n+1] = F⁻¹*û       # only needed for plotting\n",
    "end\n",
    "\n",
    "using CairoMakie\n",
    "function animate(name,U)\n",
    "    index = Observable(1)\n",
    "    fig = Figure()\n",
    "    ax = Axis(fig[1,1], xlabel=\"x\", ylabel=\"u\")\n",
    "    lines!(ax, x, @lift(U[:,$index]))\n",
    "\n",
    "    record(fig, \"$name.mp4\", 1:5:m+1) do i\n",
    "        index[] = i \n",
    "        ylims!(ax, -2, 2)\n",
    "    end\n",
    "    return nothing\n",
    "end\n",
    "\n",
    "animate(\"if2\",U)"
   ]
  },
  {
   "cell_type": "markdown",
   "id": "38d223c3",
   "metadata": {},
   "source": [
    "<video autoplay width=480 controls><source src=\"if2.mp4\" type=\"video/mp4\"></video>\n",
    "\n",
    "\n",
    "## Split-step integration\n",
    "\n",
    "We suppose here that both $A$ and $B$ are autonomous (time-invariant). Consider first\n",
    "\n",
    "$$\n",
    "\\partial_t u = A(u), \\qquad u(t_0,x) = u_0(x). \n",
    "$$\n",
    "\n",
    "Without worrying about it too much, let's define the exponential of the operator $A$ via propagation of the initial condition in this problem:\n",
    "\n",
    "$$\n",
    "e^{(t-t_0)A} u_0 = u(t). \n",
    "$$\n",
    "\n",
    "We can do the same for $B$. The simplest **split-step solver** of the original PDE is then\n",
    "\n",
    "$$\n",
    "u(t+\\tau) = e^{\\tau B} e^{\\tau A} u(t). \n",
    "$$\n",
    "\n",
    "If the subproblems are solved exactly, then this method is $O(\\tau)$, i.e., first order. The more symmetric **Strang splitting** \n",
    "\n",
    "$$\n",
    "u(t+\\tau) = \\exp( \\tfrac{1}{2} \\tau A) \\exp( \\tau B) \\exp( \\tfrac{1}{2} \\tau A) u(t)\n",
    "$$\n",
    "\n",
    "is second-order in time. It's normally used by combining the half-step operators in consecutive steps, i.e., \n",
    "\n",
    "$$\n",
    "u(t+n\\tau) = \\exp( \\tfrac{1}{2} \\tau A) \\exp( \\tau B) \\exp( \\tau A)  \\exp( \\tau B)  \\cdots  \\exp( \\tau B)\\exp( \\tfrac{1}{2} \\tau A)  u(t), \n",
    "$$\n",
    "\n",
    "which is more efficient but does not allow knowing the solution accurately at any time between the start and the end.\n",
    "\n",
    "We demonstrate split-step on the KS equation by pairing exact advancement of $e^A$ with a 2nd-order RK method for approximating $e^B$."
   ]
  },
  {
   "cell_type": "code",
   "execution_count": 4,
   "id": "0524b297",
   "metadata": {},
   "outputs": [],
   "source": [
    "expA = û -> exp.(τ*L) .* û\n",
    "expA2 = û -> exp.(0.5τ*L) .* û\n",
    "\n",
    "function expB(û)\n",
    "    s₁ = τ*G(û)\n",
    "    return û + τ*G(û + s₁/2)\n",
    "end;"
   ]
  },
  {
   "cell_type": "markdown",
   "id": "2f214709",
   "metadata": {},
   "source": [
    "In order to make the animation easily, we are not merging the half-steps on the $A$ operator here:"
   ]
  },
  {
   "cell_type": "code",
   "execution_count": 5,
   "id": "0e7ee65b",
   "metadata": {},
   "outputs": [],
   "source": [
    "û = F*u₀\n",
    "U = [u₀ zeros(N,m)]\n",
    "for n in 1:m\n",
    "    û = expA2( expB( expA2(û) ) )\n",
    "    U[:,n+1] = F⁻¹*û    \n",
    "end;\n",
    "\n",
    "animate(\"splitstep\",U)"
   ]
  },
  {
   "cell_type": "markdown",
   "id": "7b18a33c",
   "metadata": {},
   "source": [
    "<video autoplay width=480 controls><source src=\"splitstep.mp4\" type=\"video/mp4\"></video>\n",
    "\n",
    "Thanks to the *Baker--Campbell--Hausdorff formula*, there exist split-step methods of any even order. They aren't often used, though, because they require longer sequences of substeps to advance one full time step, and some of the substep increments are necessarily negative, raising issues with stability (e.g., backward diffusion).\n",
    "\n",
    "## IMEX methods\n",
    "\n",
    "In the event of a linear/nonlinear splitting in the form\n",
    "\n",
    "$$\n",
    "\\partial_t u = Lu + G(u), \n",
    "$$\n",
    "\n",
    "a simple idea is to use a hybrid **IMEX** formula for time-stepping. If the linear part is responsible for the stiffness, then we can simultaneously use an implicit method on the linear part and an explicit one on the nonlinear term. For example, we could combine AM2 (Trapezoid) with AB2 via\n",
    "\n",
    "$$\n",
    "u_{n+1} = u_n + \\tfrac{1}{2} \\tau\\bigl[ Lu_{n+1} + Lu_n + 3G(u_n) - G(u_{n-1})  \\bigr]. \n",
    "$$\n",
    "\n",
    "Thus, there is only a linear problem to solve for $u_{n+1}$. We can investigate the absolute stability of this method via the assumptions $Lu=\\lambda u$, $G(u)=\\mu u$, and $u_k=z^k$, which leads to\n",
    "\n",
    "$$\n",
    "\\left(1-\\tfrac{1}{2} \\tau \\lambda\\right) z = 1 + \\tfrac{1}{2} (\\tau\\lambda) + \\tfrac{3}{2} (\\tau \\mu) - \\tfrac{1}{2}(\\tau \\mu) z^{-1}. \n",
    "$$\n",
    "\n",
    "For the KS equation, we could set $\\lambda \\tau = \\alpha$ for $\\alpha<0$ and $\\mu\\tau= i\\beta$:\n",
    "\n",
    "$$\n",
    "(2-\\alpha)z^2 - (2 +\\alpha + 3i\\beta)z + i\\beta = 0. \n",
    "$$"
   ]
  },
  {
   "cell_type": "code",
   "execution_count": 6,
   "id": "607d0944",
   "metadata": {},
   "outputs": [
    {
     "data": {
      "image/png": "[encoded data removed]"
     },
     "execution_count": 6,
     "metadata": {
      "filenames": {
       "image/png": "/Users/driscoll/Dropbox/class/817/notes/_build/jupyter_execute/etc/splitting_10_0.png"
      }
     },
     "output_type": "execute_result"
    }
   ],
   "source": [
    "using Polynomials\n",
    "⍺ = range(-31,1,90)\n",
    "β = range(0,12,90)\n",
    "zpoly(⍺,β) = Polynomial([1im*β, -2-⍺+3im*β, 2-⍺])\n",
    "R = [ maximum( abs, roots(zpoly(x,y))) for x in ⍺, y in β ]\n",
    "contour(⍺, β, R, levels=0.2:0.1:1, \n",
    "    colorrange=(0.,1.), axis=(xlabel=\"⍺\", ylabel=\"β\"))"
   ]
  },
  {
   "cell_type": "markdown",
   "id": "0c69c3f5",
   "metadata": {},
   "source": [
    "As you can see from the yellow curve above, it appears that we can maintain stability if $|\\beta| < |\\alpha|/4$. For the KS equation we might expect $|\\alpha/\\beta| = O(N^3)$, so this should not be an issue."
   ]
  },
  {
   "cell_type": "code",
   "execution_count": 7,
   "id": "87935456",
   "metadata": {},
   "outputs": [],
   "source": [
    "U = [u₀ zeros(N,m)]\n",
    "û = F*u₀\n",
    "\n",
    "# one step of BE/Euler to get starting value\n",
    "G_old = G(û)\n",
    "û = @. (û + τ*G_old) / (1 - τ*L)\n",
    "U[:,2] = F⁻¹*û\n",
    "\n",
    "# TR/AB method\n",
    "for i in 2:m\n",
    "    Gu = G(û)\n",
    "    @. û = ( û + 0.5τ*(L*û + 3Gu - G_old) ) / (1 - 0.5τ*L)\n",
    "    G_old = Gu\n",
    "    U[:,i+1] .= F⁻¹*û\n",
    "end\n",
    "\n",
    "animate(\"imex\",U)"
   ]
  },
  {
   "cell_type": "markdown",
   "id": "d153c6d0",
   "metadata": {},
   "source": [
    "<video autoplay width=480 controls><source src=\"imex.mp4\" type=\"video/mp4\"></video>\n",
    "\n",
    "## Exponential time differencing\n",
    "\n",
    "If we integrate the IF equation over a time step, we get\n",
    "\n",
    "\n",
    "$$\n",
    "z(\\tau) = z(0) + \\int_0^\\tau e^{-tL} G\\bigl( e^{tL}z \\bigr)\\, dt. \n",
    "$$\n",
    "\n",
    "Returning to the original variable, we get\n",
    "\n",
    "$$\n",
    "u(\\tau) = e^{\\tau L}u(0) + e^{\\tau L} \\int_0^\\tau e^{-tL} G(u(t)) \\, dt.\n",
    "$$\n",
    "\n",
    "If we apply, say, a traditional Adams method to solve this equation, we would replace the integrand by a polynomial interpolating it at $0, -\\tau,\\ldots.$ However, we might do better approximating the integral via a specialized formula,\n",
    "\n",
    "$$\n",
    "\\int_0^\\tau e^{-tL} P(t) \\, dt,\n",
    "$$\n",
    "\n",
    "where $P$ interpolates *only $G$ values* at the previous time steps. For example, if we use a linear interpolant through $G_0$ and $G_{-1}$, we get\n",
    "\n",
    "$$\n",
    "\\int_0^\\tau e^{-tL} P(t) \\, dt & = \\int_0^\\tau \\frac{e^{-tL}}{\\tau} [-t G_{-1} + (\\tau + t)G_0 ] \\, dt \\\\ \n",
    "&= L^{-1}(I-e^{-\\tau L}) G_0 + L^{-2} \\left[ I - (I+\\tau L)e^{-\\tau L} \\right] (G_0-G_{-1}),\n",
    "$$\n",
    "\n",
    "where we have used notation that allows $L$ and $G$ to be operators as well as scalars. Hence, a 2nd order method is\n",
    "\n",
    "$$\n",
    "u(\\tau) = e^{\\tau L}u(0) + L^{-1}(e^{\\tau L}-I) G_0 + L^{-2} \\left[ e^{\\tau L} - I - \\tau L \\right] (G_0-G_{-1}). \n",
    "$$\n",
    "\n",
    "This type of method is known as **exponential time differencing** (ETD). There are corresponding formulas based on RK methods, but they are not as easy to describe or derive.\n",
    "\n",
    "Clearly, we need the ability to evaluate $e^{\\tau L}v$; i.e., to advance the linear part of the PDE one time step. In the KS example, this operator is diagonal in Fourier space, so there is no difficulty, but in other cases, more advanced techniques (e.g., Krylov subspaces) may be used. \n",
    "\n",
    "More subtly, the method needs a careful implementation to avoid numerical instability. In scalar form, the above formulas are\n",
    "\n",
    "$$\n",
    "u(\\tau) = e^{\\tau \\lambda}u(0) + \\frac{e^{\\tau \\lambda}-1}{\\lambda} g_0 + \\frac{e^{\\tau \\lambda} - 1 - \\tau \\lambda}{\\lambda^2}(g_0-g_{-1}), \n",
    "$$\n",
    "\n",
    "and it's clear that we will be up against subtractive cancellation. Cox and Matthews, who first published these methods, suggested using series expansions for small $\\lambda$, which requires diagonalization. However, Kassam and Trefethen showed that one can use contour integrals\n",
    "\n",
    "$$\n",
    "f(L) = \\frac{1}{2\\pi i}\\oint_C f(t)(tI-L)^{-1}\\, dt,\n",
    "$$\n",
    "\n",
    "as approximated by (wait for it) the trapezoid formula on a closed contour enclosing the eigenvalues."
   ]
  },
  {
   "cell_type": "code",
   "execution_count": 8,
   "id": "fe9c10a8",
   "metadata": {},
   "outputs": [],
   "source": [
    "f₁ = z -> (exp(z) - 1) / z\n",
    "f₂ = z -> (exp(z) - 1 - z) / z^2\n",
    "a = zeros(length(L),2)\n",
    "M = 200\n",
    "circ = @. cis(2π*(1:M)/M)\n",
    "for (i,p) in enumerate(τ*L)\n",
    "    R = max(0.1,abs(0.1*p))  # radius of contour\n",
    "    z = @. p + R*circ        # points on contour\n",
    "    dz = @. 1im*R*circ       # dz/dθ\n",
    "    \n",
    "    a[i,1] = τ/M * imag(sum(f₁(z)/(z-p)*dz for (z,dz) in zip(z,dz)))\n",
    "    a[i,2] = τ^2/M * imag(sum(f₂(z)/(z-p)*dz for (z,dz) in zip(z,dz)))\n",
    "end\n",
    "\n",
    "U = [u₀ zeros(N,m)]\n",
    "û = F*u₀\n",
    "\n",
    "# one step of BE/Euler to get starting value\n",
    "G₀ = G(û)\n",
    "û = @. (û + τ*G₀) / (1 - τ*L)\n",
    "U[:,2] = F⁻¹*û\n",
    "\n",
    "E = exp.(τ*L)\n",
    "for i in 2:m\n",
    "    G₋₁,G₀ = G₀,G(û)\n",
    "    û = E.*û + a[:,1].*G₀ + a[:,2].*(G₀-G₋₁)\n",
    "    U[:,i+1] = F⁻¹*û\n",
    "end\n",
    "\n",
    "animate(\"etd\",U)"
   ]
  },
  {
   "cell_type": "markdown",
   "id": "64ca9d02",
   "metadata": {},
   "source": [
    "<video autoplay width=480 controls><source src=\"etd.mp4\" type=\"video/mp4\"></video>"
   ]
  }
 ],
 "metadata": {
  "jupytext": {
   "cell_metadata_filter": "-all",
   "formats": "md:myst",
   "text_representation": {
    "extension": ".md",
    "format_name": "myst",
    "format_version": 0.13,
    "jupytext_version": "1.14.0"
   }
  },
  "kernelspec": {
   "display_name": "Julia 1.8.2",
   "language": "julia",
   "name": "julia-1.8"
  },
  "language_info": {
   "file_extension": ".jl",
   "mimetype": "application/julia",
   "name": "julia",
   "version": "1.8.2"
  },
  "source_map": [
   14,
   18,
   20,
   72,
   93,
   120,
   161,
   169,
   173,
   182,
   214,
   222,
   226,
   244,
   300,
   331
  ]
 },
 "nbformat": 4,
 "nbformat_minor": 5
}